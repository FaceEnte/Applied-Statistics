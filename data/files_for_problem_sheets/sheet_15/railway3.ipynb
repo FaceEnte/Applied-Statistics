{
 "cells": [
  {
   "cell_type": "markdown",
   "metadata": {},
   "source": [
    "---\n",
    "\n",
    "Applied Statistics\n",
    "\n",
    "# Worksheet: Railway Field Laboratory 3 – Flirt and Rail Pads\n",
    "\n",
    "---"
   ]
  },
  {
   "cell_type": "code",
   "execution_count": null,
   "metadata": {},
   "outputs": [],
   "source": []
  },
  {
   "cell_type": "markdown",
   "metadata": {},
   "source": [
    "### 1. Now we consider the train type Flirt and check again the assumption for the TEL80 values.\n",
    "#### a) Filter the data according to the following criteria and transform the variable speed:\n",
    "* MQ 2.1\n",
    "* 3.0m microphone\n",
    "* `date` < \"2023-05-18\" \n",
    "* `zugtyp` Flirt"
   ]
  },
  {
   "cell_type": "code",
   "execution_count": null,
   "metadata": {},
   "outputs": [],
   "source": []
  },
  {
   "cell_type": "markdown",
   "metadata": {},
   "source": [
    "#### b) Fit a model with TEL as the explained variable and the transformed speed as the explanatory variable. What do you notice?"
   ]
  },
  {
   "cell_type": "code",
   "execution_count": null,
   "metadata": {},
   "outputs": [],
   "source": []
  },
  {
   "cell_type": "markdown",
   "metadata": {},
   "source": [
    "#### c) Look at the regression plot, the QQ plot and the residuals vs. fits plot for this model. What do you notice? Have the assumptions been met?"
   ]
  },
  {
   "cell_type": "code",
   "execution_count": null,
   "metadata": {},
   "outputs": [],
   "source": []
  },
  {
   "cell_type": "markdown",
   "metadata": {},
   "source": [
    "#### d) What do you conclude from the result?"
   ]
  },
  {
   "cell_type": "markdown",
   "metadata": {},
   "source": []
  },
  {
   "cell_type": "markdown",
   "metadata": {},
   "source": [
    "### 2. We are now investigating the effect of the new rail pads for the IC2000.\n",
    "#### a) Filter the data according to the following criteria:\n",
    "* MQ 2.1\n",
    "* 3.0m microphone\n",
    "* No restrictions on the `date`.\n",
    "* `zugtyp` IC2000"
   ]
  },
  {
   "cell_type": "code",
   "execution_count": null,
   "metadata": {},
   "outputs": [],
   "source": []
  },
  {
   "cell_type": "markdown",
   "metadata": {},
   "source": [
    "#### b) Fit a model with TEL as the explained variable and the transformed speed and zw as explanatory variables.\n",
    "zw is a binary variable with the values \"neue_zw\": new rail pads and \"alte_zw\": old rail pads"
   ]
  },
  {
   "cell_type": "code",
   "execution_count": null,
   "metadata": {},
   "outputs": [],
   "source": []
  },
  {
   "cell_type": "markdown",
   "metadata": {},
   "source": [
    "#### c) What is the effect of the new rail pads?"
   ]
  },
  {
   "cell_type": "markdown",
   "metadata": {},
   "source": []
  },
  {
   "cell_type": "markdown",
   "metadata": {},
   "source": [
    "#### d) Use a QQ plot and a residuals vs. fits plot to check whether the requirements for the model are met."
   ]
  },
  {
   "cell_type": "code",
   "execution_count": null,
   "metadata": {},
   "outputs": [],
   "source": []
  }
 ],
 "metadata": {
  "kernelspec": {
   "display_name": "statistik",
   "language": "python",
   "name": "python3"
  },
  "language_info": {
   "codemirror_mode": {
    "name": "ipython",
    "version": 3
   },
   "file_extension": ".py",
   "mimetype": "text/x-python",
   "name": "python",
   "nbconvert_exporter": "python",
   "pygments_lexer": "ipython3",
   "version": "3.12.0"
  }
 },
 "nbformat": 4,
 "nbformat_minor": 2
}
