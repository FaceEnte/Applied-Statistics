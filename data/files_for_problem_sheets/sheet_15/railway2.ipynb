{
 "cells": [
  {
   "cell_type": "markdown",
   "metadata": {},
   "source": [
    "---\n",
    "\n",
    "Applied Statistics\n",
    "\n",
    "# Worksheet: Railway Field Laboratory 2 – Initial Model\n",
    "\n",
    "---"
   ]
  },
  {
   "cell_type": "markdown",
   "metadata": {},
   "source": [
    "### 1. We are now ready to fit our initial model, using exclusively the data measured prior to the installation of the new rail pads.\n",
    "#### a) Filter the data according to the following criteria:\n",
    "* MQ 2.1\n",
    "* 3.0m microphone\n",
    "* `date` < \"2023-05-18\" \n",
    "* `zugtyp` IC2000"
   ]
  },
  {
   "cell_type": "code",
   "execution_count": null,
   "metadata": {},
   "outputs": [],
   "source": []
  },
  {
   "cell_type": "markdown",
   "metadata": {},
   "source": [
    "#### b) Fit a model with TEL as the explained variable and speed as the explanatory variable."
   ]
  },
  {
   "cell_type": "code",
   "execution_count": null,
   "metadata": {},
   "outputs": [],
   "source": []
  },
  {
   "cell_type": "markdown",
   "metadata": {},
   "source": [
    "#### c) Create a regression plot for this model. What do you notice?"
   ]
  },
  {
   "cell_type": "code",
   "execution_count": null,
   "metadata": {},
   "outputs": [],
   "source": []
  },
  {
   "cell_type": "markdown",
   "metadata": {},
   "source": [
    "#### d) Use a QQ plot and a residuals vs. fits plot to check whether the requirements for the model are met."
   ]
  },
  {
   "cell_type": "code",
   "execution_count": null,
   "metadata": {},
   "outputs": [],
   "source": []
  },
  {
   "cell_type": "markdown",
   "metadata": {},
   "source": [
    "### 2. The definition of TEL80 assumes a linear relationship between TEL and $\\lg \\left(\\frac{v}{80}\\right)$:\n",
    "\n",
    "$TEL80$ is defined as \n",
    "$$\n",
    "    TEL80 = TEL - 30 \\cdot \\lg \\left(\\frac{v}{80}\\right)\n",
    "$$\n",
    "where $v$ denotes the speed.\n",
    "So\n",
    "$$\n",
    "    TEL = a + b \\lg\\left(\\frac{v}{80}\\right)\n",
    "$$\n",
    "with $a = TEL80$  and $b=30$.\n",
    "\n",
    "\n",
    "#### a) Use the data from the previous task and transform the variable speed according to the above equation."
   ]
  },
  {
   "cell_type": "code",
   "execution_count": null,
   "metadata": {},
   "outputs": [],
   "source": []
  },
  {
   "cell_type": "markdown",
   "metadata": {},
   "source": [
    "#### b) Fit a model with TEL as the explained variable and the transformed speed as the explanatory variable."
   ]
  },
  {
   "cell_type": "code",
   "execution_count": null,
   "metadata": {},
   "outputs": [],
   "source": []
  },
  {
   "cell_type": "markdown",
   "metadata": {},
   "source": [
    "#### c) Does the estimated value for $b$ align with the definition of TEL80?\n",
    "* How can the estimation of $b$ be improved?\n",
    "* What adjustments are needed in the measurement procedure?"
   ]
  },
  {
   "cell_type": "markdown",
   "metadata": {},
   "source": []
  },
  {
   "cell_type": "markdown",
   "metadata": {},
   "source": [
    "#### d) Create a regression plot for this model. What do you notice?"
   ]
  },
  {
   "cell_type": "code",
   "execution_count": null,
   "metadata": {},
   "outputs": [],
   "source": []
  },
  {
   "cell_type": "markdown",
   "metadata": {},
   "source": [
    "#### e) Use a QQ plot and a residuals vs. fits plot to check whether the requirements for the model are met."
   ]
  },
  {
   "cell_type": "code",
   "execution_count": null,
   "metadata": {},
   "outputs": [],
   "source": []
  }
 ],
 "metadata": {
  "kernelspec": {
   "display_name": "statistik",
   "language": "python",
   "name": "python3"
  },
  "language_info": {
   "codemirror_mode": {
    "name": "ipython",
    "version": 3
   },
   "file_extension": ".py",
   "mimetype": "text/x-python",
   "name": "python",
   "nbconvert_exporter": "python",
   "pygments_lexer": "ipython3",
   "version": "3.12.0"
  }
 },
 "nbformat": 4,
 "nbformat_minor": 2
}
