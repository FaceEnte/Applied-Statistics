{
 "cells": [
  {
   "cell_type": "markdown",
   "metadata": {},
   "source": [
    "# Sunspots\n",
    "Sunspots are temporary phenomena on the sun's photosphere that appear as spots darker than the surrounding areas. They are caused by the sun's magnetic field and are associated with solar activity, including solar flares and other space weather events.\n",
    "\n",
    "One of the most well-known datasets of sunspot numbers is the \"Monthly Mean Total Sunspot Number,\" maintained by the World Data Center SILSO, Royal Observatory of Belgium. This dataset provides monthly averages of sunspot counts from 1749 to the present."
   ]
  },
  {
   "cell_type": "markdown",
   "metadata": {},
   "source": [
    "#### 1. Download the dataset from https://www.sidc.be/SILSO/INFO/snmtotcsv.php and import it to pandas.\n",
    "You find a decription at https://www.sidc.be/SILSO/infosnmtot."
   ]
  },
  {
   "cell_type": "code",
   "execution_count": null,
   "metadata": {},
   "outputs": [],
   "source": []
  },
  {
   "cell_type": "markdown",
   "metadata": {},
   "source": [
    "#### 2. Prepare the data.\n",
    "* Convert year and month to a datetime.\n",
    "* We need only the two variables `date` and `spot` and observations of the last 100 years.\n"
   ]
  },
  {
   "cell_type": "code",
   "execution_count": null,
   "metadata": {},
   "outputs": [],
   "source": []
  },
  {
   "cell_type": "markdown",
   "metadata": {},
   "source": [
    "#### 3. Visualize the Data.\n",
    "* Plot the time series data to visualize the trend and any cyclic patterns."
   ]
  },
  {
   "cell_type": "code",
   "execution_count": null,
   "metadata": {},
   "outputs": [],
   "source": []
  },
  {
   "cell_type": "markdown",
   "metadata": {},
   "source": [
    "#### 4. Decompose the Time Series into its components: trend, seasonality, and residuals.\n",
    "Hint:  \n",
    "The cycle length for sunspots, commonly known as the solar cycle or sunspot cycle, is approximately 11 years.  \n",
    "This cycle represents the periodic change in the number of sunspots on the Sun's surface."
   ]
  },
  {
   "cell_type": "code",
   "execution_count": null,
   "metadata": {},
   "outputs": [],
   "source": []
  },
  {
   "cell_type": "markdown",
   "metadata": {},
   "source": [
    "#### 5. Apply appropriate transformations to get a stationary time series.\n",
    "* Visualize the resulting time series.\n",
    "* Decompose the resulting time series.\n",
    "* Test if the resulting time series is stationary."
   ]
  },
  {
   "cell_type": "code",
   "execution_count": null,
   "metadata": {},
   "outputs": [],
   "source": []
  },
  {
   "cell_type": "markdown",
   "metadata": {},
   "source": [
    "#### 6. Compare the autocorrelation functions of the orgininal series with the transformed series."
   ]
  },
  {
   "cell_type": "code",
   "execution_count": null,
   "metadata": {},
   "outputs": [],
   "source": []
  }
 ],
 "metadata": {
  "kernelspec": {
   "display_name": "Statistik",
   "language": "python",
   "name": "python3"
  },
  "language_info": {
   "codemirror_mode": {
    "name": "ipython",
    "version": 3
   },
   "file_extension": ".py",
   "mimetype": "text/x-python",
   "name": "python",
   "nbconvert_exporter": "python",
   "pygments_lexer": "ipython3",
   "version": "3.12.0"
  }
 },
 "nbformat": 4,
 "nbformat_minor": 2
}
