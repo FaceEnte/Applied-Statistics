{
 "cells": [
  {
   "cell_type": "markdown",
   "metadata": {},
   "source": [
    "# Confidence interval for 'percentage grade'"
   ]
  },
  {
   "cell_type": "code",
   "execution_count": 1,
   "metadata": {},
   "outputs": [],
   "source": [
    "# import necessary libraries\n",
    "import numpy as np\n",
    "import pandas as pd\n",
    "import matplotlib.pyplot as plt\n",
    "import seaborn as sns\n",
    "from scipy import stats\n",
    "# We need DescrStatsW from statsmodels\n",
    "from statsmodels.stats.weightstats import DescrStatsW"
   ]
  },
  {
   "cell_type": "code",
   "execution_count": 2,
   "metadata": {},
   "outputs": [],
   "source": [
    "# Load the data\n",
    "StatsCourse = pd.read_excel(\"StatsCourse.xlsx\")\n",
    "\n",
    "grade = StatsCourse['Percentage Grade']"
   ]
  },
  {
   "cell_type": "code",
   "execution_count": 3,
   "metadata": {},
   "outputs": [],
   "source": [
    "# Define a function to calculate the confidence interval\n",
    "def confidence_interval(data, alpha):\n",
    "    mean = np.mean(data)\n",
    "    sem = stats.sem(data)  # standard error of the mean: sem = s / sqrt(n)\n",
    "    margin_of_error = sem * stats.norm.ppf(1-alpha/2., 0, 1)\n",
    "    return mean - margin_of_error, mean + margin_of_error"
   ]
  },
  {
   "cell_type": "code",
   "execution_count": 4,
   "metadata": {},
   "outputs": [
    {
     "name": "stdout",
     "output_type": "stream",
     "text": [
      "Confidence Interval for 'Percentage Grade': [59.205 67.895]\n",
      "Confidence Interval for 'Percentage Grade': [58.373 68.727]\n",
      "Confidence Interval for 'Percentage Grade': [56.746 70.354]\n"
     ]
    }
   ],
   "source": [
    "# Calculate the 90%, 95% and 99% confidence intervals for 'Percentage Grade'\n",
    "grade_conf_int_90 = np.round(confidence_interval(grade, alpha = 0.10),3)\n",
    "grade_conf_int_95 = np.round(confidence_interval(grade, alpha = 0.05),3)\n",
    "grade_conf_int_99 = np.round(confidence_interval(grade, alpha = 0.01),3)\n",
    "print(f\"Confidence Interval for 'Percentage Grade': {grade_conf_int_90}\")\n",
    "print(f\"Confidence Interval for 'Percentage Grade': {grade_conf_int_95}\")\n",
    "print(f\"Confidence Interval for 'Percentage Grade': {grade_conf_int_99}\")"
   ]
  },
  {
   "cell_type": "code",
   "execution_count": 5,
   "metadata": {},
   "outputs": [
    {
     "name": "stdout",
     "output_type": "stream",
     "text": [
      "[59.205 67.895]\n",
      "[58.373 68.727]\n",
      "[56.746 70.354]\n"
     ]
    }
   ],
   "source": [
    "# With DescrStatsW, you can directly calculate the confidence interval.\n",
    "# Create a DescrStatsW object and call the method zconfint_mean\n",
    "print(np.round(DescrStatsW(grade).zconfint_mean(alpha=0.10),3))\n",
    "print(np.round(DescrStatsW(grade).zconfint_mean(alpha=0.05),3))\n",
    "print(np.round(DescrStatsW(grade).zconfint_mean(alpha=0.01),3))"
   ]
  }
 ],
 "metadata": {
  "kernelspec": {
   "display_name": "statistik",
   "language": "python",
   "name": "python3"
  },
  "language_info": {
   "codemirror_mode": {
    "name": "ipython",
    "version": 3
   },
   "file_extension": ".py",
   "mimetype": "text/x-python",
   "name": "python",
   "nbconvert_exporter": "python",
   "pygments_lexer": "ipython3",
   "version": "3.12.0"
  },
  "orig_nbformat": 2
 },
 "nbformat": 4,
 "nbformat_minor": 2
}
