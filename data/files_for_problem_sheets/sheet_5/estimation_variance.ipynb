{
 "cells": [
  {
   "cell_type": "markdown",
   "metadata": {},
   "source": [
    "# Illustrate the Central Limit Theorem using a die\n",
    "## Variance"
   ]
  },
  {
   "cell_type": "code",
   "execution_count": 1,
   "metadata": {},
   "outputs": [],
   "source": [
    "import numpy as np\n",
    "import seaborn as sns\n",
    "from scipy import stats\n",
    "\n",
    "sns.set_theme()"
   ]
  },
  {
   "cell_type": "code",
   "execution_count": 2,
   "metadata": {},
   "outputs": [],
   "source": [
    "# Simulate 10000 dice rolls and store them in a matrix (1 row per sequence).\n",
    "W = stats.randint.rvs(low=1, high=7, size=(1000,10), random_state=56658)"
   ]
  },
  {
   "cell_type": "code",
   "execution_count": 3,
   "metadata": {},
   "outputs": [],
   "source": [
    "# Compute the row-wise mean\n",
    "# With keepdims=True, the dimensions are preserved. The result is therefore a (1000 × 1) matrix.\n",
    "MW = np.mean(W, axis=1, keepdims=True)"
   ]
  },
  {
   "cell_type": "code",
   "execution_count": 4,
   "metadata": {},
   "outputs": [],
   "source": [
    "\n",
    "# Subtract the row-wise mean\n",
    "# then square element-wise\n",
    "# and sum row-wise\n",
    "# and divide by n - 1\n",
    "s2 = np.sum((W - MW)**2, axis=1) / (10-1)"
   ]
  },
  {
   "cell_type": "code",
   "execution_count": 5,
   "metadata": {},
   "outputs": [
    {
     "data": {
      "text/plain": [
       "2.9513000000000003"
      ]
     },
     "execution_count": 5,
     "metadata": {},
     "output_type": "execute_result"
    }
   ],
   "source": [
    "# Mean of the 1000 estimates\n",
    "np.mean(s2)"
   ]
  },
  {
   "cell_type": "code",
   "execution_count": 6,
   "metadata": {},
   "outputs": [
    {
     "data": {
      "text/plain": [
       "2.65617"
      ]
     },
     "execution_count": 6,
     "metadata": {},
     "output_type": "execute_result"
    }
   ],
   "source": [
    "# Berechnung mit intuitiverem Vorfaktor 1/n\n",
    "np.mean(np.sum((W - MW)**2, axis=1) / (10))"
   ]
  },
  {
   "cell_type": "markdown",
   "metadata": {},
   "source": [
    "If you use a factor of 1/n instead of 1/(n−1), the estimates will on average be off by a factor of (n−1)/n — for n = 10, this means they are about 10% too small."
   ]
  },
  {
   "cell_type": "code",
   "execution_count": 7,
   "metadata": {},
   "outputs": [
    {
     "data": {
      "text/plain": [
       "<seaborn.axisgrid.FacetGrid at 0x17d203140>"
      ]
     },
     "execution_count": 7,
     "metadata": {},
     "output_type": "execute_result"
    },
    {
     "data": {
      "image/png": "[encoded data removed]",
      "text/plain": [
       "<Figure size 500x500 with 1 Axes>"
      ]
     },
     "metadata": {},
     "output_type": "display_data"
    }
   ],
   "source": [
    "# Histogram\n",
    "sns.displot(s2)"
   ]
  },
  {
   "cell_type": "code",
   "execution_count": 8,
   "metadata": {},
   "outputs": [
    {
     "data": {
      "text/plain": [
       "array([1.6 , 1.89, 2.16, 2.29, 3.44, 3.65, 2.01, 3.01, 3.04, 1.76, 3.09,\n",
       "       2.21, 3.2 , 2.36, 4.04, 1.41, 1.56, 3.41, 2.16, 3.56, 1.29, 4.84,\n",
       "       1.76, 2.04, 3.29, 1.84, 2.05, 3.49, 2.81, 3.65, 1.6 , 3.01, 2.41,\n",
       "       1.76, 3.56, 1.49, 1.96, 3.8 , 2.84, 3.49, 2.64, 2.6 , 3.44, 2.85,\n",
       "       3.09, 2.05, 1.76, 2.41, 2.64, 2.45, 2.61, 1.81, 2.04, 2.16, 2.81,\n",
       "       2.89, 3.16, 2.36, 2.84, 2.65, 2.89, 2.16, 2.84, 1.4 , 2.44, 2.44,\n",
       "       3.49, 1.41, 3.4 , 0.64, 2.41, 2.76, 2.65, 1.69, 2.21, 2.49, 1.76,\n",
       "       1.64, 3.61, 3.36, 2.61, 1.69, 1.25, 1.76, 2.89, 3.  , 2.84, 2.69,\n",
       "       3.96, 1.69, 3.04, 2.89, 3.41, 2.56, 3.65, 2.4 , 2.96, 3.76, 1.96,\n",
       "       2.29, 3.01, 5.05, 1.69, 2.21, 3.41, 2.  , 2.89, 3.29, 1.2 , 2.41,\n",
       "       1.61, 3.61, 1.84, 1.41, 2.56, 3.41, 1.56, 1.76, 2.21, 5.04, 2.81,\n",
       "       2.96, 2.56, 2.45, 2.01, 1.8 , 4.29, 2.49, 3.05, 4.49, 2.4 , 3.76,\n",
       "       2.76, 2.16, 2.  , 2.8 , 2.69, 1.96, 2.25, 2.64, 2.8 , 2.6 , 3.6 ,\n",
       "       1.8 , 3.81, 3.01, 4.25, 2.65, 2.09, 2.41, 2.76, 1.29, 2.4 , 2.04,\n",
       "       3.16, 3.89, 2.76, 1.4 , 2.01, 1.8 , 4.25, 1.89, 2.49, 3.01, 2.85,\n",
       "       1.76, 2.81, 2.64, 3.04, 0.56, 2.64, 2.09, 3.84, 2.76, 1.81, 3.24,\n",
       "       1.89, 3.84, 2.29, 2.84, 2.36, 3.09, 2.89, 1.84, 3.76, 2.2 , 2.8 ,\n",
       "       2.41, 1.49, 2.81, 2.84, 2.89, 1.69, 2.36, 2.85, 1.21, 2.2 , 2.56,\n",
       "       2.16, 2.56, 2.84, 2.69, 3.21, 2.24, 1.64, 2.36, 3.01, 1.2 , 3.6 ,\n",
       "       3.84, 2.56, 3.29, 2.16, 3.96, 2.41, 3.81, 3.05, 1.21, 2.49, 3.44,\n",
       "       3.64, 2.81, 3.81, 2.21, 2.96, 2.25, 4.8 , 4.09, 2.64, 2.21, 1.44,\n",
       "       2.4 , 0.89, 0.64, 2.44, 2.44, 1.84, 2.21, 2.16, 3.56, 3.44, 3.81,\n",
       "       2.29, 1.69, 2.21, 4.09, 2.21, 2.49, 1.24, 3.24, 3.45, 2.69, 3.09,\n",
       "       3.2 , 2.24, 1.6 , 2.36, 2.09, 4.09, 3.69, 3.41, 3.61, 2.16, 3.96,\n",
       "       2.09, 1.29, 2.89, 1.8 , 3.84, 4.56, 3.36, 3.64, 1.65, 3.29, 2.01,\n",
       "       2.  , 4.76, 4.41, 1.69, 3.05, 2.65, 2.56, 4.21, 2.61, 2.6 , 3.01,\n",
       "       2.76, 1.36, 3.09, 4.25, 1.96, 1.56, 1.8 , 3.24, 4.  , 2.16, 3.69,\n",
       "       2.05, 2.6 , 2.09, 1.64, 2.69, 2.24, 2.96, 2.01, 3.85, 2.04, 2.8 ,\n",
       "       2.29, 2.4 , 2.81, 3.36, 2.29, 2.84, 3.01, 1.76, 2.69, 1.24, 2.64,\n",
       "       1.21, 3.04, 2.29, 2.84, 3.09, 3.89, 2.05, 3.21, 1.45, 4.05, 2.24,\n",
       "       3.96, 2.16, 2.81, 2.84, 3.01, 1.64, 2.76, 3.41, 3.76, 2.16, 1.65,\n",
       "       1.36, 1.41, 3.16, 2.01, 1.81, 2.69, 4.49, 1.84, 2.45, 2.65, 2.81,\n",
       "       2.36, 2.76, 1.84, 3.84, 2.24, 3.21, 4.69, 2.36, 1.56, 2.85, 2.45,\n",
       "       2.61, 2.64, 1.84, 1.76, 3.2 , 3.69, 2.76, 2.16, 1.49, 3.36, 4.76,\n",
       "       3.41, 2.25, 3.09, 2.41, 1.44, 1.81, 1.56, 2.69, 2.04, 2.01, 3.25,\n",
       "       2.81, 2.05, 2.64, 3.2 , 2.29, 2.89, 2.4 , 4.21, 1.64, 2.81, 3.8 ,\n",
       "       3.04, 3.61, 2.44, 1.89, 2.16, 3.61, 3.16, 3.2 , 3.36, 2.61, 3.01,\n",
       "       2.4 , 3.69, 3.44, 3.84, 2.36, 2.49, 3.  , 2.41, 3.04, 1.25, 1.84,\n",
       "       1.64, 2.89, 2.65, 3.29, 2.2 , 2.36, 2.76, 3.04, 2.45, 3.44, 2.41,\n",
       "       1.64, 3.  , 2.96, 2.76, 2.69, 3.45, 2.61, 2.76, 0.81, 2.65, 2.25,\n",
       "       1.16, 2.4 , 3.56, 2.05, 2.29, 2.21, 1.24, 2.24, 2.16, 4.49, 3.16,\n",
       "       3.24, 3.01, 3.4 , 2.36, 2.25, 3.81, 2.25, 2.24, 3.61, 3.04, 3.16,\n",
       "       3.6 , 2.56, 3.24, 3.44, 2.44, 2.24, 1.84, 2.69, 3.44, 2.69, 3.04,\n",
       "       3.64, 2.56, 2.09, 2.2 , 2.49, 1.44, 2.56, 3.01, 2.61, 1.69, 2.44,\n",
       "       4.05, 2.84, 2.25, 1.96, 2.09, 1.69, 2.09, 3.21, 3.2 , 3.2 , 2.29,\n",
       "       2.76, 2.2 , 2.24, 2.  , 2.89, 1.84, 3.29, 4.04, 3.05, 3.56, 2.84,\n",
       "       2.76, 2.69, 1.69, 2.01, 2.64, 3.29, 3.01, 1.84, 2.24, 1.96, 1.64,\n",
       "       2.45, 3.85, 3.21, 3.41, 3.89, 2.96, 2.36, 0.89, 3.24, 3.69, 2.04,\n",
       "       1.65, 3.96, 3.04, 2.81, 2.85, 2.  , 2.25, 2.2 , 3.6 , 1.84, 2.04,\n",
       "       1.64, 2.16, 3.04, 2.05, 0.6 , 1.76, 3.09, 4.49, 2.64, 3.16, 2.65,\n",
       "       1.16, 3.16, 2.49, 1.6 , 3.29, 2.05, 3.09, 2.89, 3.64, 2.05, 2.24,\n",
       "       2.56, 4.01, 1.96, 3.41, 3.69, 3.64, 1.61, 0.81, 2.96, 2.89, 3.56,\n",
       "       3.29, 3.41, 2.25, 2.64, 1.21, 2.56, 2.49, 3.41, 2.16, 1.29, 2.05,\n",
       "       3.24, 2.76, 3.41, 3.16, 3.61, 2.  , 2.96, 2.89, 1.96, 3.76, 2.96,\n",
       "       4.84, 3.81, 2.69, 2.09, 2.05, 2.41, 1.84, 1.49, 1.65, 2.45, 3.2 ,\n",
       "       3.01, 3.24, 2.29, 3.61, 4.61, 2.01, 4.25, 1.76, 3.29, 3.21, 1.65,\n",
       "       3.  , 3.24, 1.36, 2.61, 1.61, 1.36, 2.41, 2.24, 2.24, 2.25, 3.8 ,\n",
       "       2.05, 2.64, 3.04, 2.49, 1.25, 2.49, 3.96, 2.2 , 1.44, 2.64, 3.45,\n",
       "       2.44, 2.  , 4.24, 3.41, 2.84, 1.61, 3.29, 4.49, 1.49, 1.49, 3.24,\n",
       "       2.65, 2.4 , 2.09, 2.29, 2.09, 0.49, 2.61, 4.  , 1.6 , 3.24, 1.09,\n",
       "       2.41, 3.29, 2.69, 3.05, 4.01, 3.45, 2.29, 2.04, 2.84, 3.36, 2.69,\n",
       "       3.65, 3.24, 3.  , 2.21, 1.64, 1.65, 1.81, 2.  , 3.36, 1.96, 3.96,\n",
       "       1.85, 2.36, 3.8 , 1.96, 2.09, 3.8 , 1.69, 2.56, 2.64, 3.76, 2.49,\n",
       "       1.56, 2.76, 2.  , 2.49, 1.85, 2.61, 2.61, 2.96, 3.4 , 3.81, 3.21,\n",
       "       1.69, 2.76, 4.09, 4.4 , 3.44, 3.16, 2.56, 3.01, 3.44, 2.09, 3.24,\n",
       "       3.61, 1.24, 2.69, 4.61, 1.64, 3.05, 3.76, 4.21, 4.41, 1.05, 2.89,\n",
       "       1.04, 4.09, 1.69, 3.49, 3.01, 3.04, 1.89, 2.04, 3.69, 3.36, 3.29,\n",
       "       3.65, 2.29, 3.29, 3.24, 1.16, 1.64, 2.25, 3.29, 3.04, 3.81, 2.56,\n",
       "       2.96, 2.44, 0.64, 2.24, 3.41, 2.29, 2.24, 3.2 , 4.41, 3.29, 2.56,\n",
       "       1.69, 2.45, 3.85, 2.69, 2.4 , 3.36, 3.81, 1.4 , 1.61, 2.64, 3.09,\n",
       "       3.  , 2.76, 1.89, 3.81, 3.44, 4.16, 2.8 , 1.81, 2.81, 1.8 , 1.41,\n",
       "       2.25, 1.89, 2.36, 2.61, 3.21, 3.81, 2.64, 1.65, 2.56, 2.01, 1.89,\n",
       "       2.49, 3.69, 2.05, 2.44, 1.61, 4.36, 3.36, 1.16, 3.41, 1.81, 3.04,\n",
       "       2.41, 2.81, 1.84, 2.76, 2.2 , 2.65, 3.96, 3.05, 2.45, 3.8 , 2.41,\n",
       "       2.84, 2.29, 2.56, 3.61, 2.96, 3.56, 4.2 , 2.56, 2.61, 2.36, 3.21,\n",
       "       1.96, 2.41, 3.41, 2.56, 2.81, 3.16, 2.76, 3.16, 2.29, 3.49, 2.36,\n",
       "       3.49, 2.44, 2.96, 3.09, 4.36, 2.56, 4.6 , 2.96, 2.16, 2.76, 3.21,\n",
       "       4.  , 2.96, 1.65, 1.41, 2.45, 1.29, 4.25, 2.76, 0.81, 1.6 , 2.36,\n",
       "       3.21, 2.36, 2.69, 2.45, 2.29, 4.01, 2.29, 2.45, 2.36, 3.09, 1.4 ,\n",
       "       2.21, 3.09, 3.01, 4.01, 3.09, 2.04, 3.24, 2.69, 3.16, 1.96, 3.04,\n",
       "       1.56, 2.89, 2.24, 3.  , 1.81, 2.4 , 3.29, 0.56, 4.76, 2.64, 1.8 ,\n",
       "       3.49, 2.81, 2.56, 3.76, 2.56, 4.36, 1.56, 1.49, 3.81, 1.56, 4.04,\n",
       "       1.21, 3.49, 1.8 , 2.41, 2.56, 3.09, 2.8 , 2.56, 1.21, 2.24, 2.24,\n",
       "       2.24, 2.16, 2.21, 4.56, 1.6 , 4.29, 2.21, 3.49, 1.61, 3.85, 2.05,\n",
       "       2.64, 2.04, 3.21, 2.84, 2.21, 2.8 , 2.36, 1.4 , 1.96, 2.09, 2.4 ,\n",
       "       2.21, 2.01, 2.56, 2.69, 2.96, 1.81, 2.56, 2.21, 2.56, 1.44, 2.21,\n",
       "       3.44, 3.85, 1.56, 1.84, 0.89, 1.96, 1.76, 2.04, 3.24, 2.01, 2.09,\n",
       "       3.44, 3.16, 2.8 , 2.96, 4.4 , 1.76, 1.24, 1.81, 3.84, 1.61, 2.84,\n",
       "       4.44, 3.04, 2.21, 3.04, 3.49, 2.96, 1.85, 1.96, 3.05, 3.25, 3.01,\n",
       "       3.01, 3.64, 3.04, 2.96, 1.85, 1.61, 0.81, 3.24, 1.61, 1.61, 3.84,\n",
       "       3.21, 3.84, 1.8 , 1.76, 4.36, 2.89, 4.56, 3.56, 2.8 , 1.05])"
      ]
     },
     "execution_count": 8,
     "metadata": {},
     "output_type": "execute_result"
    }
   ],
   "source": [
    "# You can also compute the variance directly using NumPy\n",
    "np.var(W, axis=1)"
   ]
  },
  {
   "cell_type": "code",
   "execution_count": 9,
   "metadata": {},
   "outputs": [
    {
     "data": {
      "text/plain": [
       "array([1.77777778, 2.1       , 2.4       , 2.54444444, 3.82222222,\n",
       "       4.05555556, 2.23333333, 3.34444444, 3.37777778, 1.95555556,\n",
       "       3.43333333, 2.45555556, 3.55555556, 2.62222222, 4.48888889,\n",
       "       1.56666667, 1.73333333, 3.78888889, 2.4       , 3.95555556,\n",
       "       1.43333333, 5.37777778, 1.95555556, 2.26666667, 3.65555556,\n",
       "       2.04444444, 2.27777778, 3.87777778, 3.12222222, 4.05555556,\n",
       "       1.77777778, 3.34444444, 2.67777778, 1.95555556, 3.95555556,\n",
       "       1.65555556, 2.17777778, 4.22222222, 3.15555556, 3.87777778,\n",
       "       2.93333333, 2.88888889, 3.82222222, 3.16666667, 3.43333333,\n",
       "       2.27777778, 1.95555556, 2.67777778, 2.93333333, 2.72222222,\n",
       "       2.9       , 2.01111111, 2.26666667, 2.4       , 3.12222222,\n",
       "       3.21111111, 3.51111111, 2.62222222, 3.15555556, 2.94444444,\n",
       "       3.21111111, 2.4       , 3.15555556, 1.55555556, 2.71111111,\n",
       "       2.71111111, 3.87777778, 1.56666667, 3.77777778, 0.71111111,\n",
       "       2.67777778, 3.06666667, 2.94444444, 1.87777778, 2.45555556,\n",
       "       2.76666667, 1.95555556, 1.82222222, 4.01111111, 3.73333333,\n",
       "       2.9       , 1.87777778, 1.38888889, 1.95555556, 3.21111111,\n",
       "       3.33333333, 3.15555556, 2.98888889, 4.4       , 1.87777778,\n",
       "       3.37777778, 3.21111111, 3.78888889, 2.84444444, 4.05555556,\n",
       "       2.66666667, 3.28888889, 4.17777778, 2.17777778, 2.54444444,\n",
       "       3.34444444, 5.61111111, 1.87777778, 2.45555556, 3.78888889,\n",
       "       2.22222222, 3.21111111, 3.65555556, 1.33333333, 2.67777778,\n",
       "       1.78888889, 4.01111111, 2.04444444, 1.56666667, 2.84444444,\n",
       "       3.78888889, 1.73333333, 1.95555556, 2.45555556, 5.6       ,\n",
       "       3.12222222, 3.28888889, 2.84444444, 2.72222222, 2.23333333,\n",
       "       2.        , 4.76666667, 2.76666667, 3.38888889, 4.98888889,\n",
       "       2.66666667, 4.17777778, 3.06666667, 2.4       , 2.22222222,\n",
       "       3.11111111, 2.98888889, 2.17777778, 2.5       , 2.93333333,\n",
       "       3.11111111, 2.88888889, 4.        , 2.        , 4.23333333,\n",
       "       3.34444444, 4.72222222, 2.94444444, 2.32222222, 2.67777778,\n",
       "       3.06666667, 1.43333333, 2.66666667, 2.26666667, 3.51111111,\n",
       "       4.32222222, 3.06666667, 1.55555556, 2.23333333, 2.        ,\n",
       "       4.72222222, 2.1       , 2.76666667, 3.34444444, 3.16666667,\n",
       "       1.95555556, 3.12222222, 2.93333333, 3.37777778, 0.62222222,\n",
       "       2.93333333, 2.32222222, 4.26666667, 3.06666667, 2.01111111,\n",
       "       3.6       , 2.1       , 4.26666667, 2.54444444, 3.15555556,\n",
       "       2.62222222, 3.43333333, 3.21111111, 2.04444444, 4.17777778,\n",
       "       2.44444444, 3.11111111, 2.67777778, 1.65555556, 3.12222222,\n",
       "       3.15555556, 3.21111111, 1.87777778, 2.62222222, 3.16666667,\n",
       "       1.34444444, 2.44444444, 2.84444444, 2.4       , 2.84444444,\n",
       "       3.15555556, 2.98888889, 3.56666667, 2.48888889, 1.82222222,\n",
       "       2.62222222, 3.34444444, 1.33333333, 4.        , 4.26666667,\n",
       "       2.84444444, 3.65555556, 2.4       , 4.4       , 2.67777778,\n",
       "       4.23333333, 3.38888889, 1.34444444, 2.76666667, 3.82222222,\n",
       "       4.04444444, 3.12222222, 4.23333333, 2.45555556, 3.28888889,\n",
       "       2.5       , 5.33333333, 4.54444444, 2.93333333, 2.45555556,\n",
       "       1.6       , 2.66666667, 0.98888889, 0.71111111, 2.71111111,\n",
       "       2.71111111, 2.04444444, 2.45555556, 2.4       , 3.95555556,\n",
       "       3.82222222, 4.23333333, 2.54444444, 1.87777778, 2.45555556,\n",
       "       4.54444444, 2.45555556, 2.76666667, 1.37777778, 3.6       ,\n",
       "       3.83333333, 2.98888889, 3.43333333, 3.55555556, 2.48888889,\n",
       "       1.77777778, 2.62222222, 2.32222222, 4.54444444, 4.1       ,\n",
       "       3.78888889, 4.01111111, 2.4       , 4.4       , 2.32222222,\n",
       "       1.43333333, 3.21111111, 2.        , 4.26666667, 5.06666667,\n",
       "       3.73333333, 4.04444444, 1.83333333, 3.65555556, 2.23333333,\n",
       "       2.22222222, 5.28888889, 4.9       , 1.87777778, 3.38888889,\n",
       "       2.94444444, 2.84444444, 4.67777778, 2.9       , 2.88888889,\n",
       "       3.34444444, 3.06666667, 1.51111111, 3.43333333, 4.72222222,\n",
       "       2.17777778, 1.73333333, 2.        , 3.6       , 4.44444444,\n",
       "       2.4       , 4.1       , 2.27777778, 2.88888889, 2.32222222,\n",
       "       1.82222222, 2.98888889, 2.48888889, 3.28888889, 2.23333333,\n",
       "       4.27777778, 2.26666667, 3.11111111, 2.54444444, 2.66666667,\n",
       "       3.12222222, 3.73333333, 2.54444444, 3.15555556, 3.34444444,\n",
       "       1.95555556, 2.98888889, 1.37777778, 2.93333333, 1.34444444,\n",
       "       3.37777778, 2.54444444, 3.15555556, 3.43333333, 4.32222222,\n",
       "       2.27777778, 3.56666667, 1.61111111, 4.5       , 2.48888889,\n",
       "       4.4       , 2.4       , 3.12222222, 3.15555556, 3.34444444,\n",
       "       1.82222222, 3.06666667, 3.78888889, 4.17777778, 2.4       ,\n",
       "       1.83333333, 1.51111111, 1.56666667, 3.51111111, 2.23333333,\n",
       "       2.01111111, 2.98888889, 4.98888889, 2.04444444, 2.72222222,\n",
       "       2.94444444, 3.12222222, 2.62222222, 3.06666667, 2.04444444,\n",
       "       4.26666667, 2.48888889, 3.56666667, 5.21111111, 2.62222222,\n",
       "       1.73333333, 3.16666667, 2.72222222, 2.9       , 2.93333333,\n",
       "       2.04444444, 1.95555556, 3.55555556, 4.1       , 3.06666667,\n",
       "       2.4       , 1.65555556, 3.73333333, 5.28888889, 3.78888889,\n",
       "       2.5       , 3.43333333, 2.67777778, 1.6       , 2.01111111,\n",
       "       1.73333333, 2.98888889, 2.26666667, 2.23333333, 3.61111111,\n",
       "       3.12222222, 2.27777778, 2.93333333, 3.55555556, 2.54444444,\n",
       "       3.21111111, 2.66666667, 4.67777778, 1.82222222, 3.12222222,\n",
       "       4.22222222, 3.37777778, 4.01111111, 2.71111111, 2.1       ,\n",
       "       2.4       , 4.01111111, 3.51111111, 3.55555556, 3.73333333,\n",
       "       2.9       , 3.34444444, 2.66666667, 4.1       , 3.82222222,\n",
       "       4.26666667, 2.62222222, 2.76666667, 3.33333333, 2.67777778,\n",
       "       3.37777778, 1.38888889, 2.04444444, 1.82222222, 3.21111111,\n",
       "       2.94444444, 3.65555556, 2.44444444, 2.62222222, 3.06666667,\n",
       "       3.37777778, 2.72222222, 3.82222222, 2.67777778, 1.82222222,\n",
       "       3.33333333, 3.28888889, 3.06666667, 2.98888889, 3.83333333,\n",
       "       2.9       , 3.06666667, 0.9       , 2.94444444, 2.5       ,\n",
       "       1.28888889, 2.66666667, 3.95555556, 2.27777778, 2.54444444,\n",
       "       2.45555556, 1.37777778, 2.48888889, 2.4       , 4.98888889,\n",
       "       3.51111111, 3.6       , 3.34444444, 3.77777778, 2.62222222,\n",
       "       2.5       , 4.23333333, 2.5       , 2.48888889, 4.01111111,\n",
       "       3.37777778, 3.51111111, 4.        , 2.84444444, 3.6       ,\n",
       "       3.82222222, 2.71111111, 2.48888889, 2.04444444, 2.98888889,\n",
       "       3.82222222, 2.98888889, 3.37777778, 4.04444444, 2.84444444,\n",
       "       2.32222222, 2.44444444, 2.76666667, 1.6       , 2.84444444,\n",
       "       3.34444444, 2.9       , 1.87777778, 2.71111111, 4.5       ,\n",
       "       3.15555556, 2.5       , 2.17777778, 2.32222222, 1.87777778,\n",
       "       2.32222222, 3.56666667, 3.55555556, 3.55555556, 2.54444444,\n",
       "       3.06666667, 2.44444444, 2.48888889, 2.22222222, 3.21111111,\n",
       "       2.04444444, 3.65555556, 4.48888889, 3.38888889, 3.95555556,\n",
       "       3.15555556, 3.06666667, 2.98888889, 1.87777778, 2.23333333,\n",
       "       2.93333333, 3.65555556, 3.34444444, 2.04444444, 2.48888889,\n",
       "       2.17777778, 1.82222222, 2.72222222, 4.27777778, 3.56666667,\n",
       "       3.78888889, 4.32222222, 3.28888889, 2.62222222, 0.98888889,\n",
       "       3.6       , 4.1       , 2.26666667, 1.83333333, 4.4       ,\n",
       "       3.37777778, 3.12222222, 3.16666667, 2.22222222, 2.5       ,\n",
       "       2.44444444, 4.        , 2.04444444, 2.26666667, 1.82222222,\n",
       "       2.4       , 3.37777778, 2.27777778, 0.66666667, 1.95555556,\n",
       "       3.43333333, 4.98888889, 2.93333333, 3.51111111, 2.94444444,\n",
       "       1.28888889, 3.51111111, 2.76666667, 1.77777778, 3.65555556,\n",
       "       2.27777778, 3.43333333, 3.21111111, 4.04444444, 2.27777778,\n",
       "       2.48888889, 2.84444444, 4.45555556, 2.17777778, 3.78888889,\n",
       "       4.1       , 4.04444444, 1.78888889, 0.9       , 3.28888889,\n",
       "       3.21111111, 3.95555556, 3.65555556, 3.78888889, 2.5       ,\n",
       "       2.93333333, 1.34444444, 2.84444444, 2.76666667, 3.78888889,\n",
       "       2.4       , 1.43333333, 2.27777778, 3.6       , 3.06666667,\n",
       "       3.78888889, 3.51111111, 4.01111111, 2.22222222, 3.28888889,\n",
       "       3.21111111, 2.17777778, 4.17777778, 3.28888889, 5.37777778,\n",
       "       4.23333333, 2.98888889, 2.32222222, 2.27777778, 2.67777778,\n",
       "       2.04444444, 1.65555556, 1.83333333, 2.72222222, 3.55555556,\n",
       "       3.34444444, 3.6       , 2.54444444, 4.01111111, 5.12222222,\n",
       "       2.23333333, 4.72222222, 1.95555556, 3.65555556, 3.56666667,\n",
       "       1.83333333, 3.33333333, 3.6       , 1.51111111, 2.9       ,\n",
       "       1.78888889, 1.51111111, 2.67777778, 2.48888889, 2.48888889,\n",
       "       2.5       , 4.22222222, 2.27777778, 2.93333333, 3.37777778,\n",
       "       2.76666667, 1.38888889, 2.76666667, 4.4       , 2.44444444,\n",
       "       1.6       , 2.93333333, 3.83333333, 2.71111111, 2.22222222,\n",
       "       4.71111111, 3.78888889, 3.15555556, 1.78888889, 3.65555556,\n",
       "       4.98888889, 1.65555556, 1.65555556, 3.6       , 2.94444444,\n",
       "       2.66666667, 2.32222222, 2.54444444, 2.32222222, 0.54444444,\n",
       "       2.9       , 4.44444444, 1.77777778, 3.6       , 1.21111111,\n",
       "       2.67777778, 3.65555556, 2.98888889, 3.38888889, 4.45555556,\n",
       "       3.83333333, 2.54444444, 2.26666667, 3.15555556, 3.73333333,\n",
       "       2.98888889, 4.05555556, 3.6       , 3.33333333, 2.45555556,\n",
       "       1.82222222, 1.83333333, 2.01111111, 2.22222222, 3.73333333,\n",
       "       2.17777778, 4.4       , 2.05555556, 2.62222222, 4.22222222,\n",
       "       2.17777778, 2.32222222, 4.22222222, 1.87777778, 2.84444444,\n",
       "       2.93333333, 4.17777778, 2.76666667, 1.73333333, 3.06666667,\n",
       "       2.22222222, 2.76666667, 2.05555556, 2.9       , 2.9       ,\n",
       "       3.28888889, 3.77777778, 4.23333333, 3.56666667, 1.87777778,\n",
       "       3.06666667, 4.54444444, 4.88888889, 3.82222222, 3.51111111,\n",
       "       2.84444444, 3.34444444, 3.82222222, 2.32222222, 3.6       ,\n",
       "       4.01111111, 1.37777778, 2.98888889, 5.12222222, 1.82222222,\n",
       "       3.38888889, 4.17777778, 4.67777778, 4.9       , 1.16666667,\n",
       "       3.21111111, 1.15555556, 4.54444444, 1.87777778, 3.87777778,\n",
       "       3.34444444, 3.37777778, 2.1       , 2.26666667, 4.1       ,\n",
       "       3.73333333, 3.65555556, 4.05555556, 2.54444444, 3.65555556,\n",
       "       3.6       , 1.28888889, 1.82222222, 2.5       , 3.65555556,\n",
       "       3.37777778, 4.23333333, 2.84444444, 3.28888889, 2.71111111,\n",
       "       0.71111111, 2.48888889, 3.78888889, 2.54444444, 2.48888889,\n",
       "       3.55555556, 4.9       , 3.65555556, 2.84444444, 1.87777778,\n",
       "       2.72222222, 4.27777778, 2.98888889, 2.66666667, 3.73333333,\n",
       "       4.23333333, 1.55555556, 1.78888889, 2.93333333, 3.43333333,\n",
       "       3.33333333, 3.06666667, 2.1       , 4.23333333, 3.82222222,\n",
       "       4.62222222, 3.11111111, 2.01111111, 3.12222222, 2.        ,\n",
       "       1.56666667, 2.5       , 2.1       , 2.62222222, 2.9       ,\n",
       "       3.56666667, 4.23333333, 2.93333333, 1.83333333, 2.84444444,\n",
       "       2.23333333, 2.1       , 2.76666667, 4.1       , 2.27777778,\n",
       "       2.71111111, 1.78888889, 4.84444444, 3.73333333, 1.28888889,\n",
       "       3.78888889, 2.01111111, 3.37777778, 2.67777778, 3.12222222,\n",
       "       2.04444444, 3.06666667, 2.44444444, 2.94444444, 4.4       ,\n",
       "       3.38888889, 2.72222222, 4.22222222, 2.67777778, 3.15555556,\n",
       "       2.54444444, 2.84444444, 4.01111111, 3.28888889, 3.95555556,\n",
       "       4.66666667, 2.84444444, 2.9       , 2.62222222, 3.56666667,\n",
       "       2.17777778, 2.67777778, 3.78888889, 2.84444444, 3.12222222,\n",
       "       3.51111111, 3.06666667, 3.51111111, 2.54444444, 3.87777778,\n",
       "       2.62222222, 3.87777778, 2.71111111, 3.28888889, 3.43333333,\n",
       "       4.84444444, 2.84444444, 5.11111111, 3.28888889, 2.4       ,\n",
       "       3.06666667, 3.56666667, 4.44444444, 3.28888889, 1.83333333,\n",
       "       1.56666667, 2.72222222, 1.43333333, 4.72222222, 3.06666667,\n",
       "       0.9       , 1.77777778, 2.62222222, 3.56666667, 2.62222222,\n",
       "       2.98888889, 2.72222222, 2.54444444, 4.45555556, 2.54444444,\n",
       "       2.72222222, 2.62222222, 3.43333333, 1.55555556, 2.45555556,\n",
       "       3.43333333, 3.34444444, 4.45555556, 3.43333333, 2.26666667,\n",
       "       3.6       , 2.98888889, 3.51111111, 2.17777778, 3.37777778,\n",
       "       1.73333333, 3.21111111, 2.48888889, 3.33333333, 2.01111111,\n",
       "       2.66666667, 3.65555556, 0.62222222, 5.28888889, 2.93333333,\n",
       "       2.        , 3.87777778, 3.12222222, 2.84444444, 4.17777778,\n",
       "       2.84444444, 4.84444444, 1.73333333, 1.65555556, 4.23333333,\n",
       "       1.73333333, 4.48888889, 1.34444444, 3.87777778, 2.        ,\n",
       "       2.67777778, 2.84444444, 3.43333333, 3.11111111, 2.84444444,\n",
       "       1.34444444, 2.48888889, 2.48888889, 2.48888889, 2.4       ,\n",
       "       2.45555556, 5.06666667, 1.77777778, 4.76666667, 2.45555556,\n",
       "       3.87777778, 1.78888889, 4.27777778, 2.27777778, 2.93333333,\n",
       "       2.26666667, 3.56666667, 3.15555556, 2.45555556, 3.11111111,\n",
       "       2.62222222, 1.55555556, 2.17777778, 2.32222222, 2.66666667,\n",
       "       2.45555556, 2.23333333, 2.84444444, 2.98888889, 3.28888889,\n",
       "       2.01111111, 2.84444444, 2.45555556, 2.84444444, 1.6       ,\n",
       "       2.45555556, 3.82222222, 4.27777778, 1.73333333, 2.04444444,\n",
       "       0.98888889, 2.17777778, 1.95555556, 2.26666667, 3.6       ,\n",
       "       2.23333333, 2.32222222, 3.82222222, 3.51111111, 3.11111111,\n",
       "       3.28888889, 4.88888889, 1.95555556, 1.37777778, 2.01111111,\n",
       "       4.26666667, 1.78888889, 3.15555556, 4.93333333, 3.37777778,\n",
       "       2.45555556, 3.37777778, 3.87777778, 3.28888889, 2.05555556,\n",
       "       2.17777778, 3.38888889, 3.61111111, 3.34444444, 3.34444444,\n",
       "       4.04444444, 3.37777778, 3.28888889, 2.05555556, 1.78888889,\n",
       "       0.9       , 3.6       , 1.78888889, 1.78888889, 4.26666667,\n",
       "       3.56666667, 4.26666667, 2.        , 1.95555556, 4.84444444,\n",
       "       3.21111111, 5.06666667, 3.95555556, 3.11111111, 1.16666667])"
      ]
     },
     "execution_count": 9,
     "metadata": {},
     "output_type": "execute_result"
    }
   ],
   "source": [
    "# NumPy uses the prefactor 1/n by default\n",
    "# ddof=1 gives the result with the prefactor 1/(n-1)\n",
    "\n",
    "np.var(W, axis=1, ddof=1)"
   ]
  },
  {
   "cell_type": "markdown",
   "metadata": {},
   "source": [
    "By the way, it's the other way around in Pandas. There, the default is ddof=1."
   ]
  }
 ],
 "metadata": {
  "kernelspec": {
   "display_name": "statistik",
   "language": "python",
   "name": "python3"
  },
  "language_info": {
   "codemirror_mode": {
    "name": "ipython",
    "version": 3
   },
   "file_extension": ".py",
   "mimetype": "text/x-python",
   "name": "python",
   "nbconvert_exporter": "python",
   "pygments_lexer": "ipython3",
   "version": "3.12.0"
  },
  "orig_nbformat": 2
 },
 "nbformat": 4,
 "nbformat_minor": 2
}
