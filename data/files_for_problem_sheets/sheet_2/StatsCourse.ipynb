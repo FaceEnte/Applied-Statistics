{
 "cells": [
  {
   "cell_type": "markdown",
   "id": "a4d92c78a2e5985",
   "metadata": {},
   "source": [
    "## Import data set "
   ]
  },
  {
   "cell_type": "code",
   "id": "initial_id",
   "metadata": {
    "collapsed": true,
    "ExecuteTime": {
     "end_time": "2025-09-17T07:02:01.580374Z",
     "start_time": "2025-09-17T07:02:01.533966Z"
    }
   },
   "source": [
    "# import necessary libraries\n",
    "import pandas as pd\n",
    "import numpy as np\n",
    "import matplotlib.pyplot as plt\n",
    "import seaborn as sns\n",
    "from scipy import stats\n",
    "\n",
    "# set seaborn theme\n",
    "sns.set_theme()\n",
    "\n",
    "# Step 1: Load the data\n",
    "data = pd.read_excel(\"StatsCourse.xlsx\")\n",
    "\n",
    "# display the first few rows to understand the data structure\n",
    "data.head()"
   ],
   "outputs": [
    {
     "data": {
      "text/plain": [
       "  Gender  Books  Attendance  Percentage Grade Final Grade\n",
       "0      w      0           9                45          FX\n",
       "1      w      1          15                57           E\n",
       "2      w      0          10                45          FX\n",
       "3      w      2          16                51           E\n",
       "4      w      4          10                65           D"
      ],
      "text/html": [
       "<div>\n",
       "<style scoped>\n",
       "    .dataframe tbody tr th:only-of-type {\n",
       "        vertical-align: middle;\n",
       "    }\n",
       "\n",
       "    .dataframe tbody tr th {\n",
       "        vertical-align: top;\n",
       "    }\n",
       "\n",
       "    .dataframe thead th {\n",
       "        text-align: right;\n",
       "    }\n",
       "</style>\n",
       "<table border=\"1\" class=\"dataframe\">\n",
       "  <thead>\n",
       "    <tr style=\"text-align: right;\">\n",
       "      <th></th>\n",
       "      <th>Gender</th>\n",
       "      <th>Books</th>\n",
       "      <th>Attendance</th>\n",
       "      <th>Percentage Grade</th>\n",
       "      <th>Final Grade</th>\n",
       "    </tr>\n",
       "  </thead>\n",
       "  <tbody>\n",
       "    <tr>\n",
       "      <th>0</th>\n",
       "      <td>w</td>\n",
       "      <td>0</td>\n",
       "      <td>9</td>\n",
       "      <td>45</td>\n",
       "      <td>FX</td>\n",
       "    </tr>\n",
       "    <tr>\n",
       "      <th>1</th>\n",
       "      <td>w</td>\n",
       "      <td>1</td>\n",
       "      <td>15</td>\n",
       "      <td>57</td>\n",
       "      <td>E</td>\n",
       "    </tr>\n",
       "    <tr>\n",
       "      <th>2</th>\n",
       "      <td>w</td>\n",
       "      <td>0</td>\n",
       "      <td>10</td>\n",
       "      <td>45</td>\n",
       "      <td>FX</td>\n",
       "    </tr>\n",
       "    <tr>\n",
       "      <th>3</th>\n",
       "      <td>w</td>\n",
       "      <td>2</td>\n",
       "      <td>16</td>\n",
       "      <td>51</td>\n",
       "      <td>E</td>\n",
       "    </tr>\n",
       "    <tr>\n",
       "      <th>4</th>\n",
       "      <td>w</td>\n",
       "      <td>4</td>\n",
       "      <td>10</td>\n",
       "      <td>65</td>\n",
       "      <td>D</td>\n",
       "    </tr>\n",
       "  </tbody>\n",
       "</table>\n",
       "</div>"
      ]
     },
     "execution_count": 8,
     "metadata": {},
     "output_type": "execute_result"
    }
   ],
   "execution_count": 8
  },
  {
   "cell_type": "markdown",
   "id": "178a5b833d64915f",
   "metadata": {},
   "source": [
    "## Descriptives for categorical variables\n"
   ]
  },
  {
   "cell_type": "code",
   "id": "4b5c3259",
   "metadata": {
    "ExecuteTime": {
     "end_time": "2025-09-17T07:02:57.134335Z",
     "start_time": "2025-09-17T07:02:57.131309Z"
    }
   },
   "source": [
    "# absolute frequencies\n",
    "print(data.Gender.value_counts(),'\\n')\n",
    "print(data['Final Grade'].value_counts())"
   ],
   "outputs": [
    {
     "name": "stdout",
     "output_type": "stream",
     "text": [
      "Gender\n",
      "m    30\n",
      "w    10\n",
      "Name: count, dtype: int64 \n",
      "\n",
      "Final Grade\n",
      "E     10\n",
      "D     10\n",
      "FX     8\n",
      "B      6\n",
      "A      3\n",
      "C      2\n",
      "F      1\n",
      "Name: count, dtype: int64\n"
     ]
    }
   ],
   "execution_count": 9
  },
  {
   "cell_type": "code",
   "id": "1fb5be87",
   "metadata": {
    "ExecuteTime": {
     "end_time": "2025-09-17T07:03:12.135897Z",
     "start_time": "2025-09-17T07:03:12.132922Z"
    }
   },
   "source": [
    "# relative frequencies\n",
    "print(data.Gender.value_counts(normalize=True),'\\n')\n",
    "print(data['Final Grade'].value_counts(normalize=True))"
   ],
   "outputs": [
    {
     "name": "stdout",
     "output_type": "stream",
     "text": [
      "Gender\n",
      "m    0.75\n",
      "w    0.25\n",
      "Name: proportion, dtype: float64 \n",
      "\n",
      "Final Grade\n",
      "E     0.250\n",
      "D     0.250\n",
      "FX    0.200\n",
      "B     0.150\n",
      "A     0.075\n",
      "C     0.050\n",
      "F     0.025\n",
      "Name: proportion, dtype: float64\n"
     ]
    }
   ],
   "execution_count": 10
  },
  {
   "cell_type": "markdown",
   "id": "a8f75740",
   "metadata": {},
   "source": [
    "### Bar Chart\n",
    "Simple bar chart of gender drawn using Pandas (without Seaborn).\n",
    "\n",
    "First, determine absolute frequencies, then plot."
   ]
  },
  {
   "cell_type": "code",
   "id": "9bcb756c",
   "metadata": {
    "ExecuteTime": {
     "end_time": "2025-09-17T07:03:16.955471Z",
     "start_time": "2025-09-17T07:03:16.898852Z"
    }
   },
   "source": [
    "data.Gender.value_counts().plot.bar()\n",
    "None"
   ],
   "outputs": [
    {
     "data": {
      "text/plain": [
       "<Figure size 640x480 with 1 Axes>"
      ],
      "image/png": "[encoded data removed]"
     },
     "metadata": {},
     "output_type": "display_data",
     "jetTransient": {
      "display_id": null
     }
    }
   ],
   "execution_count": 11
  },
  {
   "cell_type": "markdown",
   "id": "87d19b35",
   "metadata": {},
   "source": [
    "Two bar charts in one figure, created with Seaborn and a specific order for the grades"
   ]
  },
  {
   "cell_type": "code",
   "id": "42d67afc",
   "metadata": {
    "ExecuteTime": {
     "end_time": "2025-09-17T07:03:33.626883Z",
     "start_time": "2025-09-17T07:03:33.542566Z"
    }
   },
   "source": [
    "# Create a figure with two subplots\n",
    "fig, axes = plt.subplots(1, 2, figsize=(12, 6))\n",
    "\n",
    "# Bar chart for gender\n",
    "gender_plot = sns.countplot(ax=axes[0], x=\"Gender\", data=data)\n",
    "gender_plot.set_ylabel(\"Number of Students\")\n",
    "gender_plot.set_title(\"Distribution by Gender\")\n",
    "\n",
    "# Bar chart for grades with custom order\n",
    "grade_order = ['A', 'B', 'C', 'D', 'E', 'F', 'FX']\n",
    "grade_plot = sns.countplot(ax=axes[1], x=\"Final Grade\", data=data, order=grade_order)\n",
    "grade_plot.set_ylabel(\"Number of Students\")\n",
    "grade_plot.set_title(\"Distribution by Grade\")\n",
    "\n",
    "# Improve layout\n",
    "plt.tight_layout()\n",
    "plt.show()\n",
    "\n"
   ],
   "outputs": [
    {
     "data": {
      "text/plain": [
       "<Figure size 1200x600 with 2 Axes>"
      ],
      "image/png": "[encoded data removed]"
     },
     "metadata": {},
     "output_type": "display_data",
     "jetTransient": {
      "display_id": null
     }
    }
   ],
   "execution_count": 12
  },
  {
   "cell_type": "markdown",
   "id": "e4d4fd81fa0ad7af",
   "metadata": {},
   "source": [
    "## Descriptives for numerical variables\n"
   ]
  },
  {
   "cell_type": "code",
   "id": "982595073216e118",
   "metadata": {
    "ExecuteTime": {
     "end_time": "2025-09-17T07:03:40.467548Z",
     "start_time": "2025-09-17T07:03:40.458315Z"
    }
   },
   "source": [
    "data.describe()"
   ],
   "outputs": [
    {
     "data": {
      "text/plain": [
       "          Books  Attendance  Percentage Grade\n",
       "count  40.00000    40.00000         40.000000\n",
       "mean    2.00000    14.10000         63.550000\n",
       "std     1.43223     4.27755         16.705519\n",
       "min     0.00000     6.00000         37.000000\n",
       "25%     1.00000    10.00000         51.000000\n",
       "50%     2.00000    15.00000         60.500000\n",
       "75%     3.00000    18.25000         73.000000\n",
       "max     4.00000    20.00000         97.000000"
      ],
      "text/html": [
       "<div>\n",
       "<style scoped>\n",
       "    .dataframe tbody tr th:only-of-type {\n",
       "        vertical-align: middle;\n",
       "    }\n",
       "\n",
       "    .dataframe tbody tr th {\n",
       "        vertical-align: top;\n",
       "    }\n",
       "\n",
       "    .dataframe thead th {\n",
       "        text-align: right;\n",
       "    }\n",
       "</style>\n",
       "<table border=\"1\" class=\"dataframe\">\n",
       "  <thead>\n",
       "    <tr style=\"text-align: right;\">\n",
       "      <th></th>\n",
       "      <th>Books</th>\n",
       "      <th>Attendance</th>\n",
       "      <th>Percentage Grade</th>\n",
       "    </tr>\n",
       "  </thead>\n",
       "  <tbody>\n",
       "    <tr>\n",
       "      <th>count</th>\n",
       "      <td>40.00000</td>\n",
       "      <td>40.00000</td>\n",
       "      <td>40.000000</td>\n",
       "    </tr>\n",
       "    <tr>\n",
       "      <th>mean</th>\n",
       "      <td>2.00000</td>\n",
       "      <td>14.10000</td>\n",
       "      <td>63.550000</td>\n",
       "    </tr>\n",
       "    <tr>\n",
       "      <th>std</th>\n",
       "      <td>1.43223</td>\n",
       "      <td>4.27755</td>\n",
       "      <td>16.705519</td>\n",
       "    </tr>\n",
       "    <tr>\n",
       "      <th>min</th>\n",
       "      <td>0.00000</td>\n",
       "      <td>6.00000</td>\n",
       "      <td>37.000000</td>\n",
       "    </tr>\n",
       "    <tr>\n",
       "      <th>25%</th>\n",
       "      <td>1.00000</td>\n",
       "      <td>10.00000</td>\n",
       "      <td>51.000000</td>\n",
       "    </tr>\n",
       "    <tr>\n",
       "      <th>50%</th>\n",
       "      <td>2.00000</td>\n",
       "      <td>15.00000</td>\n",
       "      <td>60.500000</td>\n",
       "    </tr>\n",
       "    <tr>\n",
       "      <th>75%</th>\n",
       "      <td>3.00000</td>\n",
       "      <td>18.25000</td>\n",
       "      <td>73.000000</td>\n",
       "    </tr>\n",
       "    <tr>\n",
       "      <th>max</th>\n",
       "      <td>4.00000</td>\n",
       "      <td>20.00000</td>\n",
       "      <td>97.000000</td>\n",
       "    </tr>\n",
       "  </tbody>\n",
       "</table>\n",
       "</div>"
      ]
     },
     "execution_count": 13,
     "metadata": {},
     "output_type": "execute_result"
    }
   ],
   "execution_count": 13
  },
  {
   "cell_type": "markdown",
   "id": "d5a564da",
   "metadata": {},
   "source": [
    "Add some additional statistics"
   ]
  },
  {
   "cell_type": "code",
   "id": "f5f05ab3",
   "metadata": {
    "ExecuteTime": {
     "end_time": "2025-09-17T07:03:44.514672Z",
     "start_time": "2025-09-17T07:03:44.503313Z"
    }
   },
   "source": [
    "# Additional statistics\n",
    "variance = data.var(numeric_only=True)\n",
    "iqr = data.quantile(0.75, numeric_only=True) - data.quantile(0.25, numeric_only=True)\n",
    "data_range = data.max(numeric_only=True) - data.min(numeric_only=True)\n",
    "\n",
    "# Combine all statistics into one DataFrame\n",
    "additional_stats = pd.DataFrame({\n",
    "    'variance': variance,\n",
    "    'iqr': iqr,\n",
    "    'range': data_range\n",
    "})\n",
    "\n",
    "# Append additional statistics to the describe output\n",
    "extended_stats = pd.concat([data.describe(), additional_stats.T])\n",
    "extended_stats\n"
   ],
   "outputs": [
    {
     "data": {
      "text/plain": [
       "              Books  Attendance  Percentage Grade\n",
       "count     40.000000   40.000000         40.000000\n",
       "mean       2.000000   14.100000         63.550000\n",
       "std        1.432230    4.277550         16.705519\n",
       "min        0.000000    6.000000         37.000000\n",
       "25%        1.000000   10.000000         51.000000\n",
       "50%        2.000000   15.000000         60.500000\n",
       "75%        3.000000   18.250000         73.000000\n",
       "max        4.000000   20.000000         97.000000\n",
       "variance   2.051282   18.297436        279.074359\n",
       "iqr        2.000000    8.250000         22.000000\n",
       "range      4.000000   14.000000         60.000000"
      ],
      "text/html": [
       "<div>\n",
       "<style scoped>\n",
       "    .dataframe tbody tr th:only-of-type {\n",
       "        vertical-align: middle;\n",
       "    }\n",
       "\n",
       "    .dataframe tbody tr th {\n",
       "        vertical-align: top;\n",
       "    }\n",
       "\n",
       "    .dataframe thead th {\n",
       "        text-align: right;\n",
       "    }\n",
       "</style>\n",
       "<table border=\"1\" class=\"dataframe\">\n",
       "  <thead>\n",
       "    <tr style=\"text-align: right;\">\n",
       "      <th></th>\n",
       "      <th>Books</th>\n",
       "      <th>Attendance</th>\n",
       "      <th>Percentage Grade</th>\n",
       "    </tr>\n",
       "  </thead>\n",
       "  <tbody>\n",
       "    <tr>\n",
       "      <th>count</th>\n",
       "      <td>40.000000</td>\n",
       "      <td>40.000000</td>\n",
       "      <td>40.000000</td>\n",
       "    </tr>\n",
       "    <tr>\n",
       "      <th>mean</th>\n",
       "      <td>2.000000</td>\n",
       "      <td>14.100000</td>\n",
       "      <td>63.550000</td>\n",
       "    </tr>\n",
       "    <tr>\n",
       "      <th>std</th>\n",
       "      <td>1.432230</td>\n",
       "      <td>4.277550</td>\n",
       "      <td>16.705519</td>\n",
       "    </tr>\n",
       "    <tr>\n",
       "      <th>min</th>\n",
       "      <td>0.000000</td>\n",
       "      <td>6.000000</td>\n",
       "      <td>37.000000</td>\n",
       "    </tr>\n",
       "    <tr>\n",
       "      <th>25%</th>\n",
       "      <td>1.000000</td>\n",
       "      <td>10.000000</td>\n",
       "      <td>51.000000</td>\n",
       "    </tr>\n",
       "    <tr>\n",
       "      <th>50%</th>\n",
       "      <td>2.000000</td>\n",
       "      <td>15.000000</td>\n",
       "      <td>60.500000</td>\n",
       "    </tr>\n",
       "    <tr>\n",
       "      <th>75%</th>\n",
       "      <td>3.000000</td>\n",
       "      <td>18.250000</td>\n",
       "      <td>73.000000</td>\n",
       "    </tr>\n",
       "    <tr>\n",
       "      <th>max</th>\n",
       "      <td>4.000000</td>\n",
       "      <td>20.000000</td>\n",
       "      <td>97.000000</td>\n",
       "    </tr>\n",
       "    <tr>\n",
       "      <th>variance</th>\n",
       "      <td>2.051282</td>\n",
       "      <td>18.297436</td>\n",
       "      <td>279.074359</td>\n",
       "    </tr>\n",
       "    <tr>\n",
       "      <th>iqr</th>\n",
       "      <td>2.000000</td>\n",
       "      <td>8.250000</td>\n",
       "      <td>22.000000</td>\n",
       "    </tr>\n",
       "    <tr>\n",
       "      <th>range</th>\n",
       "      <td>4.000000</td>\n",
       "      <td>14.000000</td>\n",
       "      <td>60.000000</td>\n",
       "    </tr>\n",
       "  </tbody>\n",
       "</table>\n",
       "</div>"
      ]
     },
     "execution_count": 14,
     "metadata": {},
     "output_type": "execute_result"
    }
   ],
   "execution_count": 14
  },
  {
   "cell_type": "markdown",
   "id": "004bb866",
   "metadata": {},
   "source": [
    "#### Outlier detection"
   ]
  },
  {
   "cell_type": "code",
   "id": "77959c80",
   "metadata": {
    "ExecuteTime": {
     "end_time": "2025-09-17T07:03:47.111729Z",
     "start_time": "2025-09-17T07:03:47.104848Z"
    }
   },
   "source": [
    "# calculate thresholds\n",
    "extended_stats.loc['lower_bound',] = extended_stats.loc['25%',] - 1.5 * extended_stats.loc['iqr',]\n",
    "extended_stats.loc['upper_bound',] = extended_stats.loc['75%',] + 1.5 * extended_stats.loc['iqr',]\n",
    "extended_stats"
   ],
   "outputs": [
    {
     "data": {
      "text/plain": [
       "                 Books  Attendance  Percentage Grade\n",
       "count        40.000000   40.000000         40.000000\n",
       "mean          2.000000   14.100000         63.550000\n",
       "std           1.432230    4.277550         16.705519\n",
       "min           0.000000    6.000000         37.000000\n",
       "25%           1.000000   10.000000         51.000000\n",
       "50%           2.000000   15.000000         60.500000\n",
       "75%           3.000000   18.250000         73.000000\n",
       "max           4.000000   20.000000         97.000000\n",
       "variance      2.051282   18.297436        279.074359\n",
       "iqr           2.000000    8.250000         22.000000\n",
       "range         4.000000   14.000000         60.000000\n",
       "lower_bound  -2.000000   -2.375000         18.000000\n",
       "upper_bound   6.000000   30.625000        106.000000"
      ],
      "text/html": [
       "<div>\n",
       "<style scoped>\n",
       "    .dataframe tbody tr th:only-of-type {\n",
       "        vertical-align: middle;\n",
       "    }\n",
       "\n",
       "    .dataframe tbody tr th {\n",
       "        vertical-align: top;\n",
       "    }\n",
       "\n",
       "    .dataframe thead th {\n",
       "        text-align: right;\n",
       "    }\n",
       "</style>\n",
       "<table border=\"1\" class=\"dataframe\">\n",
       "  <thead>\n",
       "    <tr style=\"text-align: right;\">\n",
       "      <th></th>\n",
       "      <th>Books</th>\n",
       "      <th>Attendance</th>\n",
       "      <th>Percentage Grade</th>\n",
       "    </tr>\n",
       "  </thead>\n",
       "  <tbody>\n",
       "    <tr>\n",
       "      <th>count</th>\n",
       "      <td>40.000000</td>\n",
       "      <td>40.000000</td>\n",
       "      <td>40.000000</td>\n",
       "    </tr>\n",
       "    <tr>\n",
       "      <th>mean</th>\n",
       "      <td>2.000000</td>\n",
       "      <td>14.100000</td>\n",
       "      <td>63.550000</td>\n",
       "    </tr>\n",
       "    <tr>\n",
       "      <th>std</th>\n",
       "      <td>1.432230</td>\n",
       "      <td>4.277550</td>\n",
       "      <td>16.705519</td>\n",
       "    </tr>\n",
       "    <tr>\n",
       "      <th>min</th>\n",
       "      <td>0.000000</td>\n",
       "      <td>6.000000</td>\n",
       "      <td>37.000000</td>\n",
       "    </tr>\n",
       "    <tr>\n",
       "      <th>25%</th>\n",
       "      <td>1.000000</td>\n",
       "      <td>10.000000</td>\n",
       "      <td>51.000000</td>\n",
       "    </tr>\n",
       "    <tr>\n",
       "      <th>50%</th>\n",
       "      <td>2.000000</td>\n",
       "      <td>15.000000</td>\n",
       "      <td>60.500000</td>\n",
       "    </tr>\n",
       "    <tr>\n",
       "      <th>75%</th>\n",
       "      <td>3.000000</td>\n",
       "      <td>18.250000</td>\n",
       "      <td>73.000000</td>\n",
       "    </tr>\n",
       "    <tr>\n",
       "      <th>max</th>\n",
       "      <td>4.000000</td>\n",
       "      <td>20.000000</td>\n",
       "      <td>97.000000</td>\n",
       "    </tr>\n",
       "    <tr>\n",
       "      <th>variance</th>\n",
       "      <td>2.051282</td>\n",
       "      <td>18.297436</td>\n",
       "      <td>279.074359</td>\n",
       "    </tr>\n",
       "    <tr>\n",
       "      <th>iqr</th>\n",
       "      <td>2.000000</td>\n",
       "      <td>8.250000</td>\n",
       "      <td>22.000000</td>\n",
       "    </tr>\n",
       "    <tr>\n",
       "      <th>range</th>\n",
       "      <td>4.000000</td>\n",
       "      <td>14.000000</td>\n",
       "      <td>60.000000</td>\n",
       "    </tr>\n",
       "    <tr>\n",
       "      <th>lower_bound</th>\n",
       "      <td>-2.000000</td>\n",
       "      <td>-2.375000</td>\n",
       "      <td>18.000000</td>\n",
       "    </tr>\n",
       "    <tr>\n",
       "      <th>upper_bound</th>\n",
       "      <td>6.000000</td>\n",
       "      <td>30.625000</td>\n",
       "      <td>106.000000</td>\n",
       "    </tr>\n",
       "  </tbody>\n",
       "</table>\n",
       "</div>"
      ]
     },
     "execution_count": 15,
     "metadata": {},
     "output_type": "execute_result"
    }
   ],
   "execution_count": 15
  },
  {
   "cell_type": "code",
   "id": "54aec4d0",
   "metadata": {
    "ExecuteTime": {
     "end_time": "2025-09-17T07:03:49.958096Z",
     "start_time": "2025-09-17T07:03:49.951380Z"
    }
   },
   "source": [
    "# Extract numerical data\n",
    "data_num = data.select_dtypes(include='number')\n",
    "\n",
    "# Create outlier mask\n",
    "outlier_mask = (data_num < extended_stats.loc['lower_bound']) | (data_num > extended_stats.loc['upper_bound'])\n",
    "outlier_mask"
   ],
   "outputs": [
    {
     "data": {
      "text/plain": [
       "    Books  Attendance  Percentage Grade\n",
       "0   False       False             False\n",
       "1   False       False             False\n",
       "2   False       False             False\n",
       "3   False       False             False\n",
       "4   False       False             False\n",
       "5   False       False             False\n",
       "6   False       False             False\n",
       "7   False       False             False\n",
       "8   False       False             False\n",
       "9   False       False             False\n",
       "10  False       False             False\n",
       "11  False       False             False\n",
       "12  False       False             False\n",
       "13  False       False             False\n",
       "14  False       False             False\n",
       "15  False       False             False\n",
       "16  False       False             False\n",
       "17  False       False             False\n",
       "18  False       False             False\n",
       "19  False       False             False\n",
       "20  False       False             False\n",
       "21  False       False             False\n",
       "22  False       False             False\n",
       "23  False       False             False\n",
       "24  False       False             False\n",
       "25  False       False             False\n",
       "26  False       False             False\n",
       "27  False       False             False\n",
       "28  False       False             False\n",
       "29  False       False             False\n",
       "30  False       False             False\n",
       "31  False       False             False\n",
       "32  False       False             False\n",
       "33  False       False             False\n",
       "34  False       False             False\n",
       "35  False       False             False\n",
       "36  False       False             False\n",
       "37  False       False             False\n",
       "38  False       False             False\n",
       "39  False       False             False"
      ],
      "text/html": [
       "<div>\n",
       "<style scoped>\n",
       "    .dataframe tbody tr th:only-of-type {\n",
       "        vertical-align: middle;\n",
       "    }\n",
       "\n",
       "    .dataframe tbody tr th {\n",
       "        vertical-align: top;\n",
       "    }\n",
       "\n",
       "    .dataframe thead th {\n",
       "        text-align: right;\n",
       "    }\n",
       "</style>\n",
       "<table border=\"1\" class=\"dataframe\">\n",
       "  <thead>\n",
       "    <tr style=\"text-align: right;\">\n",
       "      <th></th>\n",
       "      <th>Books</th>\n",
       "      <th>Attendance</th>\n",
       "      <th>Percentage Grade</th>\n",
       "    </tr>\n",
       "  </thead>\n",
       "  <tbody>\n",
       "    <tr>\n",
       "      <th>0</th>\n",
       "      <td>False</td>\n",
       "      <td>False</td>\n",
       "      <td>False</td>\n",
       "    </tr>\n",
       "    <tr>\n",
       "      <th>1</th>\n",
       "      <td>False</td>\n",
       "      <td>False</td>\n",
       "      <td>False</td>\n",
       "    </tr>\n",
       "    <tr>\n",
       "      <th>2</th>\n",
       "      <td>False</td>\n",
       "      <td>False</td>\n",
       "      <td>False</td>\n",
       "    </tr>\n",
       "    <tr>\n",
       "      <th>3</th>\n",
       "      <td>False</td>\n",
       "      <td>False</td>\n",
       "      <td>False</td>\n",
       "    </tr>\n",
       "    <tr>\n",
       "      <th>4</th>\n",
       "      <td>False</td>\n",
       "      <td>False</td>\n",
       "      <td>False</td>\n",
       "    </tr>\n",
       "    <tr>\n",
       "      <th>5</th>\n",
       "      <td>False</td>\n",
       "      <td>False</td>\n",
       "      <td>False</td>\n",
       "    </tr>\n",
       "    <tr>\n",
       "      <th>6</th>\n",
       "      <td>False</td>\n",
       "      <td>False</td>\n",
       "      <td>False</td>\n",
       "    </tr>\n",
       "    <tr>\n",
       "      <th>7</th>\n",
       "      <td>False</td>\n",
       "      <td>False</td>\n",
       "      <td>False</td>\n",
       "    </tr>\n",
       "    <tr>\n",
       "      <th>8</th>\n",
       "      <td>False</td>\n",
       "      <td>False</td>\n",
       "      <td>False</td>\n",
       "    </tr>\n",
       "    <tr>\n",
       "      <th>9</th>\n",
       "      <td>False</td>\n",
       "      <td>False</td>\n",
       "      <td>False</td>\n",
       "    </tr>\n",
       "    <tr>\n",
       "      <th>10</th>\n",
       "      <td>False</td>\n",
       "      <td>False</td>\n",
       "      <td>False</td>\n",
       "    </tr>\n",
       "    <tr>\n",
       "      <th>11</th>\n",
       "      <td>False</td>\n",
       "      <td>False</td>\n",
       "      <td>False</td>\n",
       "    </tr>\n",
       "    <tr>\n",
       "      <th>12</th>\n",
       "      <td>False</td>\n",
       "      <td>False</td>\n",
       "      <td>False</td>\n",
       "    </tr>\n",
       "    <tr>\n",
       "      <th>13</th>\n",
       "      <td>False</td>\n",
       "      <td>False</td>\n",
       "      <td>False</td>\n",
       "    </tr>\n",
       "    <tr>\n",
       "      <th>14</th>\n",
       "      <td>False</td>\n",
       "      <td>False</td>\n",
       "      <td>False</td>\n",
       "    </tr>\n",
       "    <tr>\n",
       "      <th>15</th>\n",
       "      <td>False</td>\n",
       "      <td>False</td>\n",
       "      <td>False</td>\n",
       "    </tr>\n",
       "    <tr>\n",
       "      <th>16</th>\n",
       "      <td>False</td>\n",
       "      <td>False</td>\n",
       "      <td>False</td>\n",
       "    </tr>\n",
       "    <tr>\n",
       "      <th>17</th>\n",
       "      <td>False</td>\n",
       "      <td>False</td>\n",
       "      <td>False</td>\n",
       "    </tr>\n",
       "    <tr>\n",
       "      <th>18</th>\n",
       "      <td>False</td>\n",
       "      <td>False</td>\n",
       "      <td>False</td>\n",
       "    </tr>\n",
       "    <tr>\n",
       "      <th>19</th>\n",
       "      <td>False</td>\n",
       "      <td>False</td>\n",
       "      <td>False</td>\n",
       "    </tr>\n",
       "    <tr>\n",
       "      <th>20</th>\n",
       "      <td>False</td>\n",
       "      <td>False</td>\n",
       "      <td>False</td>\n",
       "    </tr>\n",
       "    <tr>\n",
       "      <th>21</th>\n",
       "      <td>False</td>\n",
       "      <td>False</td>\n",
       "      <td>False</td>\n",
       "    </tr>\n",
       "    <tr>\n",
       "      <th>22</th>\n",
       "      <td>False</td>\n",
       "      <td>False</td>\n",
       "      <td>False</td>\n",
       "    </tr>\n",
       "    <tr>\n",
       "      <th>23</th>\n",
       "      <td>False</td>\n",
       "      <td>False</td>\n",
       "      <td>False</td>\n",
       "    </tr>\n",
       "    <tr>\n",
       "      <th>24</th>\n",
       "      <td>False</td>\n",
       "      <td>False</td>\n",
       "      <td>False</td>\n",
       "    </tr>\n",
       "    <tr>\n",
       "      <th>25</th>\n",
       "      <td>False</td>\n",
       "      <td>False</td>\n",
       "      <td>False</td>\n",
       "    </tr>\n",
       "    <tr>\n",
       "      <th>26</th>\n",
       "      <td>False</td>\n",
       "      <td>False</td>\n",
       "      <td>False</td>\n",
       "    </tr>\n",
       "    <tr>\n",
       "      <th>27</th>\n",
       "      <td>False</td>\n",
       "      <td>False</td>\n",
       "      <td>False</td>\n",
       "    </tr>\n",
       "    <tr>\n",
       "      <th>28</th>\n",
       "      <td>False</td>\n",
       "      <td>False</td>\n",
       "      <td>False</td>\n",
       "    </tr>\n",
       "    <tr>\n",
       "      <th>29</th>\n",
       "      <td>False</td>\n",
       "      <td>False</td>\n",
       "      <td>False</td>\n",
       "    </tr>\n",
       "    <tr>\n",
       "      <th>30</th>\n",
       "      <td>False</td>\n",
       "      <td>False</td>\n",
       "      <td>False</td>\n",
       "    </tr>\n",
       "    <tr>\n",
       "      <th>31</th>\n",
       "      <td>False</td>\n",
       "      <td>False</td>\n",
       "      <td>False</td>\n",
       "    </tr>\n",
       "    <tr>\n",
       "      <th>32</th>\n",
       "      <td>False</td>\n",
       "      <td>False</td>\n",
       "      <td>False</td>\n",
       "    </tr>\n",
       "    <tr>\n",
       "      <th>33</th>\n",
       "      <td>False</td>\n",
       "      <td>False</td>\n",
       "      <td>False</td>\n",
       "    </tr>\n",
       "    <tr>\n",
       "      <th>34</th>\n",
       "      <td>False</td>\n",
       "      <td>False</td>\n",
       "      <td>False</td>\n",
       "    </tr>\n",
       "    <tr>\n",
       "      <th>35</th>\n",
       "      <td>False</td>\n",
       "      <td>False</td>\n",
       "      <td>False</td>\n",
       "    </tr>\n",
       "    <tr>\n",
       "      <th>36</th>\n",
       "      <td>False</td>\n",
       "      <td>False</td>\n",
       "      <td>False</td>\n",
       "    </tr>\n",
       "    <tr>\n",
       "      <th>37</th>\n",
       "      <td>False</td>\n",
       "      <td>False</td>\n",
       "      <td>False</td>\n",
       "    </tr>\n",
       "    <tr>\n",
       "      <th>38</th>\n",
       "      <td>False</td>\n",
       "      <td>False</td>\n",
       "      <td>False</td>\n",
       "    </tr>\n",
       "    <tr>\n",
       "      <th>39</th>\n",
       "      <td>False</td>\n",
       "      <td>False</td>\n",
       "      <td>False</td>\n",
       "    </tr>\n",
       "  </tbody>\n",
       "</table>\n",
       "</div>"
      ]
     },
     "execution_count": 16,
     "metadata": {},
     "output_type": "execute_result"
    }
   ],
   "execution_count": 16
  },
  {
   "cell_type": "code",
   "id": "10074758",
   "metadata": {
    "ExecuteTime": {
     "end_time": "2025-09-17T07:03:53.472912Z",
     "start_time": "2025-09-17T07:03:53.469027Z"
    }
   },
   "source": [
    "# Optionally: Show outliers\n",
    "outliers = data_num[outlier_mask].dropna(how='all')\n",
    "print(\"Detected outliers:\")\n",
    "print(outliers)"
   ],
   "outputs": [
    {
     "name": "stdout",
     "output_type": "stream",
     "text": [
      "Detected outliers:\n",
      "Empty DataFrame\n",
      "Columns: [Books, Attendance, Percentage Grade]\n",
      "Index: []\n"
     ]
    }
   ],
   "execution_count": 17
  },
  {
   "cell_type": "markdown",
   "id": "c4c3f613",
   "metadata": {},
   "source": [
    "No outliers were detected in any of the variables."
   ]
  },
  {
   "cell_type": "markdown",
   "id": "d65d645c",
   "metadata": {},
   "source": [
    "### Histograms"
   ]
  },
  {
   "cell_type": "code",
   "id": "900df19f",
   "metadata": {
    "ExecuteTime": {
     "end_time": "2025-09-17T07:04:07.052819Z",
     "start_time": "2025-09-17T07:04:06.914245Z"
    }
   },
   "source": [
    "import matplotlib.pyplot as plt\n",
    "import seaborn as sns\n",
    "\n",
    "# Create a figure with three subplots\n",
    "fig, axes = plt.subplots(1, 3, figsize=(15, 5))\n",
    "\n",
    "# Histogram for number of books\n",
    "hist1 = sns.histplot(ax=axes[0], x=\"Books\", data=data, bins=5, binrange=(-0.5, 4.5))\n",
    "hist1.set_ylabel(\"Number of Students\")\n",
    "hist1.set_title(\"Books Read\")\n",
    "\n",
    "# Histogram for attendance\n",
    "hist2 = sns.histplot(ax=axes[1], x=\"Attendance\", data=data, binwidth=2, binrange=(5, 21))\n",
    "hist2.set_ylabel(\"Number of Students\")\n",
    "hist2.set_title(\"Class Attendance\")\n",
    "\n",
    "# Histogram for percentage grade\n",
    "hist3 = sns.histplot(ax=axes[2], x=\"Percentage Grade\", data=data, binwidth=10, binrange=(0, 100))\n",
    "hist3.set_ylabel(\"Number of Students\")\n",
    "hist3.set_title(\"Percentage Grade Distribution\")\n",
    "\n",
    "# Improve layout\n",
    "plt.tight_layout()\n",
    "plt.show()"
   ],
   "outputs": [
    {
     "data": {
      "text/plain": [
       "<Figure size 1500x500 with 3 Axes>"
      ],
      "image/png": "[encoded data removed]"
     },
     "metadata": {},
     "output_type": "display_data",
     "jetTransient": {
      "display_id": null
     }
    }
   ],
   "execution_count": 18
  },
  {
   "cell_type": "markdown",
   "id": "49a4cec6",
   "metadata": {},
   "source": [
    "### Boxplots"
   ]
  },
  {
   "cell_type": "code",
   "id": "7cb58c86",
   "metadata": {
    "ExecuteTime": {
     "end_time": "2025-09-17T07:04:17.245997Z",
     "start_time": "2025-09-17T07:04:17.195667Z"
    }
   },
   "source": [
    "# Box plot of a single variable\n",
    "sns.boxplot(y=\"Percentage Grade\", data=data)"
   ],
   "outputs": [
    {
     "data": {
      "text/plain": [
       "<Axes: ylabel='Percentage Grade'>"
      ]
     },
     "execution_count": 19,
     "metadata": {},
     "output_type": "execute_result"
    },
    {
     "data": {
      "text/plain": [
       "<Figure size 640x480 with 1 Axes>"
      ],
      "image/png": "[encoded data removed]"
     },
     "metadata": {},
     "output_type": "display_data",
     "jetTransient": {
      "display_id": null
     }
    }
   ],
   "execution_count": 19
  },
  {
   "cell_type": "code",
   "id": "3c80d462",
   "metadata": {
    "ExecuteTime": {
     "end_time": "2025-09-17T07:04:23.661220Z",
     "start_time": "2025-09-17T07:04:23.604401Z"
    }
   },
   "source": [
    "# Box plot of all numerical variables\n",
    "sns.boxplot(data=data)\n",
    "\n",
    "# Is it meaningful to display these three variables in the same figure? Why (or why not)?"
   ],
   "outputs": [
    {
     "data": {
      "text/plain": [
       "<Axes: >"
      ]
     },
     "execution_count": 20,
     "metadata": {},
     "output_type": "execute_result"
    },
    {
     "data": {
      "text/plain": [
       "<Figure size 640x480 with 1 Axes>"
      ],
      "image/png": "[encoded data removed]"
     },
     "metadata": {},
     "output_type": "display_data",
     "jetTransient": {
      "display_id": null
     }
    }
   ],
   "execution_count": 20
  },
  {
   "cell_type": "code",
   "id": "b71214a8",
   "metadata": {
    "ExecuteTime": {
     "end_time": "2025-09-17T07:04:30.334660Z",
     "start_time": "2025-09-17T07:04:30.285042Z"
    }
   },
   "source": [
    "# Box plot of a read books by gender\n",
    "sns.boxplot(y=\"Percentage Grade\", x=\"Gender\", data=data)"
   ],
   "outputs": [
    {
     "data": {
      "text/plain": [
       "<Axes: xlabel='Gender', ylabel='Percentage Grade'>"
      ]
     },
     "execution_count": 21,
     "metadata": {},
     "output_type": "execute_result"
    },
    {
     "data": {
      "text/plain": [
       "<Figure size 640x480 with 1 Axes>"
      ],
      "image/png": "[encoded data removed]"
     },
     "metadata": {},
     "output_type": "display_data",
     "jetTransient": {
      "display_id": null
     }
    }
   ],
   "execution_count": 21
  },
  {
   "cell_type": "markdown",
   "id": "60387b4b",
   "metadata": {},
   "source": [
    "## Scatterplot and correlation"
   ]
  },
  {
   "cell_type": "code",
   "id": "ef9dfc47",
   "metadata": {
    "ExecuteTime": {
     "end_time": "2025-09-17T07:04:46.121995Z",
     "start_time": "2025-09-17T07:04:46.062276Z"
    }
   },
   "source": [
    "# extract the columns 'Attendance' and 'Grade' from the dataset\n",
    "attendance = data['Attendance']\n",
    "grade = data['Percentage Grade']\n",
    "\n",
    "# create scatter plot\n",
    "plt.figure(figsize=(8, 6))\n",
    "sns.scatterplot(x=attendance, y=grade)\n",
    "plt.title('Scatterplot of Attendance vs. Grade')\n",
    "plt.xlabel('Attendance')\n",
    "plt.ylabel('Grade')\n",
    "plt.show()\n",
    "# calculate Pearson correlation coefficient\n",
    "pearson_corr, p_value = stats.pearsonr(attendance, grade)\n",
    "print(f\"Pearson Correlation Coefficient: {pearson_corr:.3f}\")\n"
   ],
   "outputs": [
    {
     "data": {
      "text/plain": [
       "<Figure size 800x600 with 1 Axes>"
      ],
      "image/png": "[encoded data removed]"
     },
     "metadata": {},
     "output_type": "display_data",
     "jetTransient": {
      "display_id": null
     }
    },
    {
     "name": "stdout",
     "output_type": "stream",
     "text": [
      "Pearson Correlation Coefficient: 0.482\n"
     ]
    }
   ],
   "execution_count": 22
  }
 ],
 "metadata": {
  "kernelspec": {
   "display_name": "statistik",
   "language": "python",
   "name": "python3"
  },
  "language_info": {
   "codemirror_mode": {
    "name": "ipython",
    "version": 3
   },
   "file_extension": ".py",
   "mimetype": "text/x-python",
   "name": "python",
   "nbconvert_exporter": "python",
   "pygments_lexer": "ipython3",
   "version": "3.12.0"
  }
 },
 "nbformat": 4,
 "nbformat_minor": 5
}
