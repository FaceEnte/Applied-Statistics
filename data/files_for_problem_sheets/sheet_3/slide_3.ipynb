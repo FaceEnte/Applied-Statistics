{
 "cells": [
  {
   "cell_type": "code",
   "id": "initial_id",
   "metadata": {
    "collapsed": true,
    "ExecuteTime": {
     "end_time": "2025-09-24T07:51:19.355975Z",
     "start_time": "2025-09-24T07:51:19.353198Z"
    }
   },
   "source": [
    "import numpy as np\n",
    "\n",
    "# data\n",
    "x = np.array([0, 1, 2, 3])\n",
    "y = np.array([1, 2, 5, 4])\n",
    "\n",
    "# empirical covariance\n",
    "sxy = np.cov(x, y)[0, 1]\n",
    "\n",
    "# empirical correlation\n",
    "r = np.corrcoef(x, y)[0, 1]\n",
    "\n",
    "# output\n",
    "print(f\"Empirical Covariance is: {sxy}\")\n",
    "print(f\"Empirical Correlation is: {r}\")"
   ],
   "outputs": [
    {
     "name": "stdout",
     "output_type": "stream",
     "text": [
      "Empirical Covariance is: 2.0\n",
      "Empirical Correlation is: 0.8485281374238571\n"
     ]
    }
   ],
   "execution_count": 4
  }
 ],
 "metadata": {
  "kernelspec": {
   "display_name": "Python 3",
   "language": "python",
   "name": "python3"
  },
  "language_info": {
   "codemirror_mode": {
    "name": "ipython",
    "version": 2
   },
   "file_extension": ".py",
   "mimetype": "text/x-python",
   "name": "python",
   "nbconvert_exporter": "python",
   "pygments_lexer": "ipython2",
   "version": "2.7.6"
  }
 },
 "nbformat": 4,
 "nbformat_minor": 5
}
