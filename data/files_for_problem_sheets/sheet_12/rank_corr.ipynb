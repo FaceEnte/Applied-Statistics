{
 "cells": [
  {
   "cell_type": "markdown",
   "metadata": {},
   "source": [
    "---\n",
    "\n",
    "Applied Statistics\n",
    "\n",
    "# Problem sheet: Rank correlation\n",
    "\n",
    "---"
   ]
  },
  {
   "cell_type": "markdown",
   "metadata": {},
   "source": [
    "### 1. Analyzing Ordinal Data in Penguins' Size and Fish Consumption\n",
    "\n",
    "Objective: Investigate the relationship between the size of penguins and their fish consumption levels using ordinal data analysis techniques.\n",
    "\n",
    "The dataset in `fish_consumption.pkl` consists of 300 simulated penguin records with two attributes:\n",
    "\n",
    "* Size: Categorized as Small, Medium, or Large.\n",
    "* Fish Consumption: Categorized as Low, Medium, or High.\n",
    "\n",
    "\n",
    "#### a) Import necessary libraries and load the dataset into a pandas DataFrame. Display the first few rows to understand the dataset's structure."
   ]
  },
  {
   "cell_type": "code",
   "execution_count": null,
   "metadata": {},
   "outputs": [],
   "source": []
  },
  {
   "cell_type": "markdown",
   "metadata": {},
   "source": [
    "#### b) Create a visualization that shows the relationship between penguin size and fish consumption. Hint: A count plot with hues or stacked bars could be insightful."
   ]
  },
  {
   "cell_type": "code",
   "execution_count": null,
   "metadata": {},
   "outputs": [],
   "source": []
  },
  {
   "cell_type": "markdown",
   "metadata": {},
   "source": [
    "#### c) Ordinal variables need to be appropriately encoded before analysis.  \n",
    "Encode the \"Size\" and \"Fish Consumption\" variables based on their ordinal nature, with values indicating their order (e.g., Small = 1, Medium = 2, Large = 3)."
   ]
  },
  {
   "cell_type": "code",
   "execution_count": null,
   "metadata": {},
   "outputs": [],
   "source": []
  },
  {
   "cell_type": "markdown",
   "metadata": {},
   "source": [
    "#### d) Analyze the relationship between the size of the penguins and their fish consumption levels using Spearman's rank correlation coefficient, carry out a correlation test and interpret the result."
   ]
  },
  {
   "cell_type": "code",
   "execution_count": null,
   "metadata": {},
   "outputs": [],
   "source": []
  },
  {
   "cell_type": "markdown",
   "metadata": {},
   "source": [
    "#### e) Would it also make sense to compute a Pearson correlation? Why (or why not)?"
   ]
  },
  {
   "cell_type": "markdown",
   "metadata": {},
   "source": []
  },
  {
   "cell_type": "markdown",
   "metadata": {},
   "source": [
    "### 2. Spearman's Rank Correlation vs. Pearson's Correlation\n",
    "\n",
    "#### a) Compute Pearson's Correlation Coefficient and Spearman's Rank Correlation Coefficient for the data in `corr_data.pkl`."
   ]
  },
  {
   "cell_type": "code",
   "execution_count": null,
   "metadata": {},
   "outputs": [],
   "source": []
  },
  {
   "cell_type": "markdown",
   "metadata": {},
   "source": [
    "#### b) What do you observe from the results?"
   ]
  },
  {
   "cell_type": "markdown",
   "metadata": {},
   "source": []
  },
  {
   "cell_type": "markdown",
   "metadata": {},
   "source": [
    "#### c) Visualize the data to confirm your answer."
   ]
  },
  {
   "cell_type": "code",
   "execution_count": null,
   "metadata": {},
   "outputs": [],
   "source": []
  }
 ],
 "metadata": {
  "kernelspec": {
   "display_name": "statistik",
   "language": "python",
   "name": "python3"
  },
  "language_info": {
   "codemirror_mode": {
    "name": "ipython",
    "version": 3
   },
   "file_extension": ".py",
   "mimetype": "text/x-python",
   "name": "python",
   "nbconvert_exporter": "python",
   "pygments_lexer": "ipython3",
   "version": "3.12.0"
  }
 },
 "nbformat": 4,
 "nbformat_minor": 2
}
