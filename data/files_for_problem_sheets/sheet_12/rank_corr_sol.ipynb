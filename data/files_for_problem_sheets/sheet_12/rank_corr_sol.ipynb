{
 "cells": [
  {
   "cell_type": "markdown",
   "metadata": {},
   "source": [
    "---\n",
    "\n",
    "Applied Statistics\n",
    "\n",
    "# Problem sheet: Rank correlation\n",
    "\n",
    "---"
   ]
  },
  {
   "cell_type": "markdown",
   "metadata": {},
   "source": [
    "### 1. Analyzing Ordinal Data in Penguins' Size and Fish Consumption\n",
    "\n",
    "Objective: Investigate the relationship between the size of penguins and their fish consumption levels using ordinal data analysis techniques.\n",
    "\n",
    "The dataset in `fish_consumption.pkl` consists of 300 simulated penguin records with two attributes:\n",
    "\n",
    "* Size: Categorized as Small, Medium, or Large.\n",
    "* Fish Consumption: Categorized as Low, Medium, or High.\n",
    "\n",
    "\n",
    "#### a) Import necessary libraries and load the dataset into a pandas DataFrame. Display the first few rows to understand the dataset's structure."
   ]
  },
  {
   "cell_type": "code",
   "execution_count": 1,
   "metadata": {},
   "outputs": [],
   "source": [
    "import pandas as pd\n",
    "import numpy as np\n",
    "from scipy import stats\n",
    "import seaborn as sns"
   ]
  },
  {
   "cell_type": "code",
   "execution_count": 2,
   "metadata": {},
   "outputs": [
    {
     "data": {
      "text/html": [
       "<div>\n",
       "<style scoped>\n",
       "    .dataframe tbody tr th:only-of-type {\n",
       "        vertical-align: middle;\n",
       "    }\n",
       "\n",
       "    .dataframe tbody tr th {\n",
       "        vertical-align: top;\n",
       "    }\n",
       "\n",
       "    .dataframe thead th {\n",
       "        text-align: right;\n",
       "    }\n",
       "</style>\n",
       "<table border=\"1\" class=\"dataframe\">\n",
       "  <thead>\n",
       "    <tr style=\"text-align: right;\">\n",
       "      <th></th>\n",
       "      <th>Size</th>\n",
       "      <th>fish_consumption</th>\n",
       "    </tr>\n",
       "  </thead>\n",
       "  <tbody>\n",
       "    <tr>\n",
       "      <th>0</th>\n",
       "      <td>Medium</td>\n",
       "      <td>Low</td>\n",
       "    </tr>\n",
       "    <tr>\n",
       "      <th>1</th>\n",
       "      <td>Large</td>\n",
       "      <td>Low</td>\n",
       "    </tr>\n",
       "    <tr>\n",
       "      <th>2</th>\n",
       "      <td>Large</td>\n",
       "      <td>Low</td>\n",
       "    </tr>\n",
       "    <tr>\n",
       "      <th>3</th>\n",
       "      <td>Medium</td>\n",
       "      <td>Low</td>\n",
       "    </tr>\n",
       "    <tr>\n",
       "      <th>4</th>\n",
       "      <td>Small</td>\n",
       "      <td>Medium</td>\n",
       "    </tr>\n",
       "  </tbody>\n",
       "</table>\n",
       "</div>"
      ],
      "text/plain": [
       "     Size fish_consumption\n",
       "0  Medium              Low\n",
       "1   Large              Low\n",
       "2   Large              Low\n",
       "3  Medium              Low\n",
       "4   Small           Medium"
      ]
     },
     "execution_count": 2,
     "metadata": {},
     "output_type": "execute_result"
    }
   ],
   "source": [
    "data_fish = pd.read_pickle(\"fish_consumption.pkl\")\n",
    "data_fish.head()"
   ]
  },
  {
   "cell_type": "markdown",
   "metadata": {},
   "source": [
    "#### b) Create a visualization that shows the relationship between penguin size and fish consumption. Hint: A count plot with hues or stacked bars could be insightful."
   ]
  },
  {
   "cell_type": "code",
   "execution_count": 3,
   "metadata": {},
   "outputs": [
    {
     "data": {
      "text/plain": [
       "<Axes: xlabel='Size', ylabel='count'>"
      ]
     },
     "execution_count": 3,
     "metadata": {},
     "output_type": "execute_result"
    },
    {
     "data": {
      "image/png": "[encoded data removed]",
      "text/plain": [
       "<Figure size 640x480 with 1 Axes>"
      ]
     },
     "metadata": {},
     "output_type": "display_data"
    }
   ],
   "source": [
    "sns.countplot(x='Size', hue='fish_consumption', data=data_fish, palette='Blues')"
   ]
  },
  {
   "cell_type": "markdown",
   "metadata": {},
   "source": [
    "#### c) Ordinal variables need to be appropriately encoded before analysis.  \n",
    "Encode the \"Size\" and \"Fish Consumption\" variables based on their ordinal nature, with values indicating their order (e.g., Small = 1, Medium = 2, Large = 3)."
   ]
  },
  {
   "cell_type": "code",
   "execution_count": 4,
   "metadata": {},
   "outputs": [],
   "source": [
    "mapper_size = {'Small': 1, 'Medium': 2, 'Large': 3}\n",
    "data_fish['Size_ordinal'] = data_fish['Size'].replace(mapper_size)\n",
    "\n",
    "mapper_fish = {'Low': 1, 'Medium': 2, 'High': 3}\n",
    "data_fish['fish_consumption_ordinal'] = data_fish.fish_consumption.replace(mapper_fish)"
   ]
  },
  {
   "cell_type": "markdown",
   "metadata": {},
   "source": [
    "We sort the data and plot it again:"
   ]
  },
  {
   "cell_type": "code",
   "execution_count": 5,
   "metadata": {},
   "outputs": [
    {
     "data": {
      "text/plain": [
       "<Axes: xlabel='Size', ylabel='count'>"
      ]
     },
     "execution_count": 5,
     "metadata": {},
     "output_type": "execute_result"
    },
    {
     "data": {
      "image/png": "[encoded data removed]",
      "text/plain": [
       "<Figure size 640x480 with 1 Axes>"
      ]
     },
     "metadata": {},
     "output_type": "display_data"
    }
   ],
   "source": [
    "data_fish.sort_values(['Size_ordinal', 'fish_consumption_ordinal'], inplace=True)\n",
    "sns.countplot(x='Size', hue='fish_consumption', data=data_fish, palette='Blues')"
   ]
  },
  {
   "cell_type": "markdown",
   "metadata": {},
   "source": [
    "#### d) Analyze the relationship between the size of the penguins and their fish consumption levels using Spearman's rank correlation coefficient, carry out a correlation test and interpret the result."
   ]
  },
  {
   "cell_type": "code",
   "execution_count": 6,
   "metadata": {},
   "outputs": [
    {
     "name": "stdout",
     "output_type": "stream",
     "text": [
      "Spearman's Correlation Coefficient: 0.187\n",
      "P-value: 0.001\n"
     ]
    }
   ],
   "source": [
    "spearman_corr, spearman_p_value = stats.spearmanr(data_fish['Size_ordinal'], data_fish['fish_consumption_ordinal'])\n",
    "\n",
    "print(f\"Spearman's Correlation Coefficient: {spearman_corr:.3f}\")\n",
    "print(f\"P-value: {spearman_p_value:.3f}\")\n"
   ]
  },
  {
   "cell_type": "markdown",
   "metadata": {},
   "source": [
    "There's a statistically significant (monotonic) relationship between the size and the fish consumption. However, the association is weak."
   ]
  },
  {
   "cell_type": "markdown",
   "metadata": {},
   "source": [
    "#### e) Would it also make sense to compute a Pearson correlation? Why (or why not)?"
   ]
  },
  {
   "cell_type": "markdown",
   "metadata": {},
   "source": [
    "No, the Pearson correlation is not meaningful for ordinal variables."
   ]
  },
  {
   "cell_type": "markdown",
   "metadata": {},
   "source": [
    "### 2. Spearman's Rank Correlation vs. Pearson's Correlation\n",
    "\n",
    "#### a) Compute Pearson's Correlation Coefficient and Spearman's Rank Correlation Coefficient for the data in `corr_data.pkl`."
   ]
  },
  {
   "cell_type": "code",
   "execution_count": 7,
   "metadata": {},
   "outputs": [
    {
     "name": "stdout",
     "output_type": "stream",
     "text": [
      "Pearson correlation: 0.3903403606560952\n",
      "Spearman correlation: 0.8936813681368136\n"
     ]
    }
   ],
   "source": [
    "df = pd.read_pickle('corr_data.pkl')\n",
    "\n",
    "# Calculate correlations\n",
    "pearson_corr = df['X'].corr(df['Y'], method='pearson')\n",
    "spearman_corr = df['X'].corr(df['Y'], method='spearman')\n",
    "\n",
    "print(\"Pearson correlation:\", pearson_corr)\n",
    "print(\"Spearman correlation:\", spearman_corr)"
   ]
  },
  {
   "cell_type": "markdown",
   "metadata": {},
   "source": [
    "#### b) What do you observe from the results?"
   ]
  },
  {
   "cell_type": "markdown",
   "metadata": {},
   "source": [
    "Spearman's Rank Correlation Coefficient is much larger than Pearson's Correlation Coefficient because the relationship is not linear."
   ]
  },
  {
   "cell_type": "markdown",
   "metadata": {},
   "source": [
    "#### c) Visualize the data to confirm your answer."
   ]
  },
  {
   "cell_type": "code",
   "execution_count": 8,
   "metadata": {},
   "outputs": [
    {
     "data": {
      "text/plain": [
       "<Axes: xlabel='X', ylabel='Y'>"
      ]
     },
     "execution_count": 8,
     "metadata": {},
     "output_type": "execute_result"
    },
    {
     "data": {
      "image/png": "[encoded data removed]",
      "text/plain": [
       "<Figure size 640x480 with 1 Axes>"
      ]
     },
     "metadata": {},
     "output_type": "display_data"
    }
   ],
   "source": [
    "sns.scatterplot(x='X', y='Y', data=df)"
   ]
  }
 ],
 "metadata": {
  "kernelspec": {
   "display_name": "statistik",
   "language": "python",
   "name": "python3"
  },
  "language_info": {
   "codemirror_mode": {
    "name": "ipython",
    "version": 3
   },
   "file_extension": ".py",
   "mimetype": "text/x-python",
   "name": "python",
   "nbconvert_exporter": "python",
   "pygments_lexer": "ipython3",
   "version": "3.12.0"
  }
 },
 "nbformat": 4,
 "nbformat_minor": 2
}
