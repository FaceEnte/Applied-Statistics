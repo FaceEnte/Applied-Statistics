{
 "cells": [
  {
   "cell_type": "markdown",
   "metadata": {},
   "source": [
    "---\n",
    "\n",
    "Applied Statistics\n",
    "\n",
    "# Worksheet: Ames Housing Dataset 2 – Handling Missing Data\n",
    "\n",
    "---"
   ]
  },
  {
   "cell_type": "markdown",
   "metadata": {},
   "source": [
    "### 1. Handle Missing Data\n",
    "\n",
    "* Choose at least three columns with missing data.\n",
    "* For each selected column, decide on an appropriate method to handle the missing values based on the type of data and the proportion of missing values:\n",
    "    + For a numeric column with less than 5% missing, use mean imputation.\n",
    "    + For categorical data, use mode imputation or create a new category for missing data.\n",
    "    + For a column with more than 30% missing, consider dropping the column or using a model-based approach like regression for imputation.  \n",
    "*    Implement the imputation strategies chosen above.\n",
    "*    Show before and after statistics to evaluate how the imputation has affected the distribution of the dataset.    "
   ]
  },
  {
   "cell_type": "code",
   "execution_count": null,
   "metadata": {},
   "outputs": [],
   "source": []
  }
 ],
 "metadata": {
  "kernelspec": {
   "display_name": "statistik",
   "language": "python",
   "name": "python3"
  },
  "language_info": {
   "codemirror_mode": {
    "name": "ipython",
    "version": 3
   },
   "file_extension": ".py",
   "mimetype": "text/x-python",
   "name": "python",
   "nbconvert_exporter": "python",
   "pygments_lexer": "ipython3",
   "version": "3.12.0"
  }
 },
 "nbformat": 4,
 "nbformat_minor": 2
}
