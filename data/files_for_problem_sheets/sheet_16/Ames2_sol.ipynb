{
 "cells": [
  {
   "cell_type": "markdown",
   "metadata": {},
   "source": [
    "---\n",
    "\n",
    "Applied Statistics\n",
    "\n",
    "# Worksheet: Ames Housing Dataset 2 – Handling Missing Data\n",
    "\n",
    "---"
   ]
  },
  {
   "cell_type": "markdown",
   "metadata": {},
   "source": [
    "### 1. Handle Missing Data\n",
    "\n",
    "* Choose at least three columns with missing data.\n",
    "* For each selected column, decide on an appropriate method to handle the missing values based on the type of data and the proportion of missing values:\n",
    "    + For a numeric column with less than 5% missing, use mean imputation.\n",
    "    + For categorical data, use mode imputation or create a new category for missing data.\n",
    "    + For a column with more than 30% missing, consider dropping the column or using a model-based approach like regression for imputation.  \n",
    "*    Implement the imputation strategies chosen above.\n",
    "*    Show before and after statistics to evaluate how the imputation has affected the distribution of the dataset.    "
   ]
  },
  {
   "cell_type": "code",
   "execution_count": 1,
   "metadata": {},
   "outputs": [],
   "source": [
    "import pandas as pd\n",
    "import numpy as np\n",
    "import matplotlib.pyplot as plt\n",
    "import seaborn as sns\n",
    "from sklearn.impute import SimpleImputer"
   ]
  },
  {
   "cell_type": "code",
   "execution_count": 2,
   "metadata": {},
   "outputs": [],
   "source": [
    "# Load the dataset\n",
    "data = pd.read_csv('AmesHousing.csv')"
   ]
  },
  {
   "cell_type": "code",
   "execution_count": 3,
   "metadata": {},
   "outputs": [],
   "source": [
    "data2 = data.copy()\n",
    "\n",
    "# Bsmt Unf SF: Unfinished square feet of basement area\n",
    "# numeric, 0.034 % missings\n",
    "# Imputation for 'Bsmt Unf SF' using mean\n",
    "mean_imputer = SimpleImputer(strategy='mean')\n",
    "data2.loc[:,'Bsmt Unf SF'] = mean_imputer.fit_transform(data2[['Bsmt Unf SF']])\n",
    "\n",
    "# Garage Type\n",
    "# According to the documentation, a missing value for Garage Type means that there is no garage. Therefore we create a new category `NoGarage`.\n",
    "# Imputation for 'GarageType' using a constant value\n",
    "const_imputer = SimpleImputer(strategy='constant', fill_value='NoGarage')\n",
    "data2.loc[:,'Garage Type'] = const_imputer.fit_transform(data2[['Garage Type']])\n",
    "\n",
    "# Misc Feature\n",
    "# 96.4 % missings\n",
    "# Drop the 'Misc Feature' column due to high percentage of missing data\n",
    "data2.drop(columns=['Misc Feature'], inplace=True)\n"
   ]
  },
  {
   "cell_type": "code",
   "execution_count": 4,
   "metadata": {},
   "outputs": [
    {
     "name": "stdout",
     "output_type": "stream",
     "text": [
      "count    2929.000000\n",
      "mean      559.262547\n",
      "std       439.494153\n",
      "min         0.000000\n",
      "25%       219.000000\n",
      "50%       466.000000\n",
      "75%       802.000000\n",
      "max      2336.000000\n",
      "Name: Bsmt Unf SF, dtype: float64\n",
      "count    2930.000000\n",
      "mean      559.262547\n",
      "std       439.419122\n",
      "min         0.000000\n",
      "25%       219.000000\n",
      "50%       466.000000\n",
      "75%       801.750000\n",
      "max      2336.000000\n",
      "Name: Bsmt Unf SF, dtype: float64\n"
     ]
    }
   ],
   "source": [
    "# The distribution of `Bsmt Unf SF` remains almost the same because only one missing value has been filled.\n",
    "print(data['Bsmt Unf SF'].describe())\n",
    "print(data2['Bsmt Unf SF'].describe())"
   ]
  },
  {
   "cell_type": "code",
   "execution_count": 5,
   "metadata": {},
   "outputs": [
    {
     "name": "stdout",
     "output_type": "stream",
     "text": [
      "Garage Type\n",
      "Attchd     1731\n",
      "Detchd      782\n",
      "BuiltIn     186\n",
      "Basment      36\n",
      "2Types       23\n",
      "CarPort      15\n",
      "Name: count, dtype: int64\n",
      "Garage Type\n",
      "Attchd      1731\n",
      "Detchd       782\n",
      "BuiltIn      186\n",
      "NoGarage     157\n",
      "Basment       36\n",
      "2Types        23\n",
      "CarPort       15\n",
      "Name: count, dtype: int64\n"
     ]
    }
   ],
   "source": [
    "# The value_counts show the additional category `NoGarage`\n",
    "print(data['Garage Type'].value_counts())\n",
    "print(data2['Garage Type'].value_counts())"
   ]
  }
 ],
 "metadata": {
  "kernelspec": {
   "display_name": "statistik",
   "language": "python",
   "name": "python3"
  },
  "language_info": {
   "codemirror_mode": {
    "name": "ipython",
    "version": 3
   },
   "file_extension": ".py",
   "mimetype": "text/x-python",
   "name": "python",
   "nbconvert_exporter": "python",
   "pygments_lexer": "ipython3",
   "version": "3.12.0"
  }
 },
 "nbformat": 4,
 "nbformat_minor": 2
}
