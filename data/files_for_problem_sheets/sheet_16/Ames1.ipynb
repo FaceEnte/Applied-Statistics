{
 "cells": [
  {
   "cell_type": "markdown",
   "metadata": {},
   "source": [
    "---\n",
    "\n",
    "Applied Statistics\n",
    "\n",
    "# Worksheet: Ames Housing Dataset 1 – Detect and Visualize Missing Data\n",
    "\n",
    "---"
   ]
  },
  {
   "cell_type": "markdown",
   "metadata": {},
   "source": [
    "### 1. Data Loading and Initial Analysis\n",
    "The Ames Housing dataset is available on Moodle as AmesHousing.csv.\n",
    "\n",
    "* Load the dataset into a pandas DataFrame.\n",
    "*    Display the first few rows of the dataset to understand its structure.\n",
    "*    Print the information about data types and missing values."
   ]
  },
  {
   "cell_type": "code",
   "execution_count": null,
   "metadata": {},
   "outputs": [],
   "source": []
  },
  {
   "cell_type": "markdown",
   "metadata": {},
   "source": [
    "### 2. Identify Missing Data\n",
    "\n",
    "*    Identify columns with missing data and calculate the percentage of missing values in each of these columns.\n",
    "*    Create a bar plot to visualize the proportion of missing data for each column with missing values.\n",
    "* Create a heat map to visualize the missing values."
   ]
  },
  {
   "cell_type": "code",
   "execution_count": null,
   "metadata": {},
   "outputs": [],
   "source": []
  }
 ],
 "metadata": {
  "kernelspec": {
   "display_name": "Statistik",
   "language": "python",
   "name": "python3"
  },
  "language_info": {
   "codemirror_mode": {
    "name": "ipython",
    "version": 3
   },
   "file_extension": ".py",
   "mimetype": "text/x-python",
   "name": "python",
   "nbconvert_exporter": "python",
   "pygments_lexer": "ipython3",
   "version": "3.12.0"
  }
 },
 "nbformat": 4,
 "nbformat_minor": 2
}
